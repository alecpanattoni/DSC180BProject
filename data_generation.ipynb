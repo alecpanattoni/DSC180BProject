{
 "cells": [
  {
   "cell_type": "code",
<<<<<<< HEAD
   "execution_count": 18,
=======
   "execution_count": 1,
>>>>>>> main
   "metadata": {},
   "outputs": [],
   "source": [
    "import numpy as np\n",
    "import pandas as pd\n",
<<<<<<< HEAD
    "from scipy.stats import bernoulli\n",
    "\n",
    "import matplotlib.pylab as plt"
=======
    "from scipy.stats import bernoulli"
>>>>>>> main
   ]
  },
  {
   "cell_type": "code",
<<<<<<< HEAD
   "execution_count": 6,
=======
   "execution_count": 2,
>>>>>>> main
   "metadata": {},
   "outputs": [],
   "source": [
    "data = pd.read_csv('data/allegations.csv', index_col=0)"
   ]
  },
  {
   "cell_type": "code",
<<<<<<< HEAD
   "execution_count": 7,
=======
   "execution_count": 3,
>>>>>>> main
   "metadata": {},
   "outputs": [
    {
     "data": {
      "text/html": [
       "<div>\n",
       "<style scoped>\n",
       "    .dataframe tbody tr th:only-of-type {\n",
       "        vertical-align: middle;\n",
       "    }\n",
       "\n",
       "    .dataframe tbody tr th {\n",
       "        vertical-align: top;\n",
       "    }\n",
       "\n",
       "    .dataframe thead th {\n",
       "        text-align: right;\n",
       "    }\n",
       "</style>\n",
       "<table border=\"1\" class=\"dataframe\">\n",
       "  <thead>\n",
       "    <tr style=\"text-align: right;\">\n",
       "      <th></th>\n",
       "      <th>unique_mos_id</th>\n",
       "      <th>shield_no</th>\n",
       "      <th>complaint_id</th>\n",
       "      <th>mos_ethnicity</th>\n",
       "      <th>mos_gender</th>\n",
       "      <th>mos_age_incident</th>\n",
       "      <th>complainant_ethnicity</th>\n",
       "      <th>complainant_gender</th>\n",
       "      <th>complainant_age_incident</th>\n",
       "      <th>fado_type</th>\n",
       "      <th>allegation</th>\n",
       "      <th>precinct</th>\n",
       "      <th>contact_reason</th>\n",
       "      <th>Substantiated</th>\n",
       "    </tr>\n",
       "  </thead>\n",
       "  <tbody>\n",
       "    <tr>\n",
       "      <th>0</th>\n",
       "      <td>10004</td>\n",
       "      <td>8409.0</td>\n",
       "      <td>42835</td>\n",
       "      <td>Hispanic</td>\n",
       "      <td>M</td>\n",
       "      <td>32</td>\n",
       "      <td>Black</td>\n",
       "      <td>Female</td>\n",
       "      <td>38.0</td>\n",
       "      <td>Abuse of Authority</td>\n",
       "      <td>Failure to provide RTKA card</td>\n",
       "      <td>78.0</td>\n",
       "      <td>Report-domestic dispute</td>\n",
       "      <td>True</td>\n",
       "    </tr>\n",
       "    <tr>\n",
       "      <th>1</th>\n",
       "      <td>10007</td>\n",
       "      <td>5952.0</td>\n",
       "      <td>24601</td>\n",
       "      <td>White</td>\n",
       "      <td>M</td>\n",
       "      <td>24</td>\n",
       "      <td>Black</td>\n",
       "      <td>Male</td>\n",
       "      <td>26.0</td>\n",
       "      <td>Discourtesy</td>\n",
       "      <td>Action</td>\n",
       "      <td>67.0</td>\n",
       "      <td>Moving violation</td>\n",
       "      <td>True</td>\n",
       "    </tr>\n",
       "    <tr>\n",
       "      <th>2</th>\n",
       "      <td>10007</td>\n",
       "      <td>5952.0</td>\n",
       "      <td>24601</td>\n",
       "      <td>White</td>\n",
       "      <td>M</td>\n",
       "      <td>24</td>\n",
       "      <td>Black</td>\n",
       "      <td>Male</td>\n",
       "      <td>26.0</td>\n",
       "      <td>Offensive Language</td>\n",
       "      <td>Race</td>\n",
       "      <td>67.0</td>\n",
       "      <td>Moving violation</td>\n",
       "      <td>True</td>\n",
       "    </tr>\n",
       "    <tr>\n",
       "      <th>3</th>\n",
       "      <td>10007</td>\n",
       "      <td>5952.0</td>\n",
       "      <td>26146</td>\n",
       "      <td>White</td>\n",
       "      <td>M</td>\n",
       "      <td>25</td>\n",
       "      <td>Black</td>\n",
       "      <td>Male</td>\n",
       "      <td>45.0</td>\n",
       "      <td>Abuse of Authority</td>\n",
       "      <td>Question</td>\n",
       "      <td>67.0</td>\n",
       "      <td>PD suspected C/V of violation/crime - street</td>\n",
       "      <td>True</td>\n",
       "    </tr>\n",
       "    <tr>\n",
       "      <th>4</th>\n",
       "      <td>10009</td>\n",
       "      <td>24058.0</td>\n",
       "      <td>40253</td>\n",
       "      <td>Hispanic</td>\n",
       "      <td>F</td>\n",
       "      <td>39</td>\n",
       "      <td>NaN</td>\n",
       "      <td>NaN</td>\n",
       "      <td>16.0</td>\n",
       "      <td>Force</td>\n",
       "      <td>Physical force</td>\n",
       "      <td>67.0</td>\n",
       "      <td>Report-dispute</td>\n",
       "      <td>True</td>\n",
       "    </tr>\n",
       "  </tbody>\n",
       "</table>\n",
       "</div>"
      ],
      "text/plain": [
       "   unique_mos_id  shield_no  complaint_id mos_ethnicity mos_gender  \\\n",
       "0          10004     8409.0         42835      Hispanic          M   \n",
       "1          10007     5952.0         24601         White          M   \n",
       "2          10007     5952.0         24601         White          M   \n",
       "3          10007     5952.0         26146         White          M   \n",
       "4          10009    24058.0         40253      Hispanic          F   \n",
       "\n",
       "   mos_age_incident complainant_ethnicity complainant_gender  \\\n",
       "0                32                 Black             Female   \n",
       "1                24                 Black               Male   \n",
       "2                24                 Black               Male   \n",
       "3                25                 Black               Male   \n",
       "4                39                   NaN                NaN   \n",
       "\n",
       "   complainant_age_incident           fado_type                    allegation  \\\n",
       "0                      38.0  Abuse of Authority  Failure to provide RTKA card   \n",
       "1                      26.0         Discourtesy                        Action   \n",
       "2                      26.0  Offensive Language                          Race   \n",
       "3                      45.0  Abuse of Authority                      Question   \n",
       "4                      16.0               Force                Physical force   \n",
       "\n",
       "   precinct                                contact_reason  Substantiated  \n",
       "0      78.0                       Report-domestic dispute           True  \n",
       "1      67.0                              Moving violation           True  \n",
       "2      67.0                              Moving violation           True  \n",
       "3      67.0  PD suspected C/V of violation/crime - street           True  \n",
       "4      67.0                                Report-dispute           True  "
      ]
     },
<<<<<<< HEAD
     "execution_count": 7,
=======
     "execution_count": 3,
>>>>>>> main
     "metadata": {},
     "output_type": "execute_result"
    }
   ],
   "source": [
    "data.head()"
   ]
  },
  {
   "cell_type": "code",
<<<<<<< HEAD
   "execution_count": 8,
=======
   "execution_count": 4,
>>>>>>> main
   "metadata": {},
   "outputs": [
    {
     "data": {
      "text/plain": [
       "unique_mos_id                  0\n",
       "shield_no                   5392\n",
       "complaint_id                   0\n",
       "mos_ethnicity                  0\n",
       "mos_gender                     0\n",
       "mos_age_incident               0\n",
       "complainant_ethnicity       5505\n",
       "complainant_gender          4195\n",
       "complainant_age_incident    4829\n",
       "fado_type                      0\n",
       "allegation                     1\n",
       "precinct                      48\n",
       "contact_reason               199\n",
       "Substantiated                  0\n",
       "dtype: int64"
      ]
     },
<<<<<<< HEAD
     "execution_count": 8,
=======
     "execution_count": 4,
>>>>>>> main
     "metadata": {},
     "output_type": "execute_result"
    }
   ],
   "source": [
    "data.isna().sum()"
   ]
  },
  {
   "cell_type": "code",
<<<<<<< HEAD
   "execution_count": 9,
=======
   "execution_count": 5,
>>>>>>> main
   "metadata": {},
   "outputs": [],
   "source": [
    "relevant = data.rename({'Substantiated': 'substantiated'}, axis = 1)"
   ]
  },
  {
   "cell_type": "code",
<<<<<<< HEAD
   "execution_count": 10,
=======
   "execution_count": 6,
>>>>>>> main
   "metadata": {},
   "outputs": [],
   "source": [
    "relevant = relevant[[\n",
    "    'complaint_id', 'complainant_ethnicity', 'complainant_gender', 'complainant_age_incident', 'allegation', 'contact_reason', 'substantiated'\n",
    "]]"
   ]
  },
  {
   "cell_type": "code",
<<<<<<< HEAD
   "execution_count": 11,
=======
   "execution_count": 7,
>>>>>>> main
   "metadata": {},
   "outputs": [
    {
     "data": {
      "text/html": [
       "<div>\n",
       "<style scoped>\n",
       "    .dataframe tbody tr th:only-of-type {\n",
       "        vertical-align: middle;\n",
       "    }\n",
       "\n",
       "    .dataframe tbody tr th {\n",
       "        vertical-align: top;\n",
       "    }\n",
       "\n",
       "    .dataframe thead th {\n",
       "        text-align: right;\n",
       "    }\n",
       "</style>\n",
       "<table border=\"1\" class=\"dataframe\">\n",
       "  <thead>\n",
       "    <tr style=\"text-align: right;\">\n",
       "      <th></th>\n",
       "      <th>complaint_id</th>\n",
       "      <th>complainant_ethnicity</th>\n",
       "      <th>complainant_gender</th>\n",
       "      <th>complainant_age_incident</th>\n",
       "      <th>allegation</th>\n",
       "      <th>contact_reason</th>\n",
       "      <th>substantiated</th>\n",
       "    </tr>\n",
       "  </thead>\n",
       "  <tbody>\n",
       "    <tr>\n",
       "      <th>0</th>\n",
       "      <td>42835</td>\n",
       "      <td>Black</td>\n",
       "      <td>Female</td>\n",
       "      <td>38.0</td>\n",
       "      <td>Failure to provide RTKA card</td>\n",
       "      <td>Report-domestic dispute</td>\n",
       "      <td>True</td>\n",
       "    </tr>\n",
       "    <tr>\n",
       "      <th>1</th>\n",
       "      <td>24601</td>\n",
       "      <td>Black</td>\n",
       "      <td>Male</td>\n",
       "      <td>26.0</td>\n",
       "      <td>Action</td>\n",
       "      <td>Moving violation</td>\n",
       "      <td>True</td>\n",
       "    </tr>\n",
       "    <tr>\n",
       "      <th>2</th>\n",
       "      <td>24601</td>\n",
       "      <td>Black</td>\n",
       "      <td>Male</td>\n",
       "      <td>26.0</td>\n",
       "      <td>Race</td>\n",
       "      <td>Moving violation</td>\n",
       "      <td>True</td>\n",
       "    </tr>\n",
       "    <tr>\n",
       "      <th>3</th>\n",
       "      <td>26146</td>\n",
       "      <td>Black</td>\n",
       "      <td>Male</td>\n",
       "      <td>45.0</td>\n",
       "      <td>Question</td>\n",
       "      <td>PD suspected C/V of violation/crime - street</td>\n",
       "      <td>True</td>\n",
       "    </tr>\n",
       "    <tr>\n",
       "      <th>4</th>\n",
       "      <td>40253</td>\n",
       "      <td>NaN</td>\n",
       "      <td>NaN</td>\n",
       "      <td>16.0</td>\n",
       "      <td>Physical force</td>\n",
       "      <td>Report-dispute</td>\n",
       "      <td>True</td>\n",
       "    </tr>\n",
       "    <tr>\n",
       "      <th>5</th>\n",
       "      <td>37256</td>\n",
       "      <td>White</td>\n",
       "      <td>Male</td>\n",
       "      <td>31.0</td>\n",
       "      <td>Refusal to process civilian complaint</td>\n",
       "      <td>C/V telephoned PCT</td>\n",
       "      <td>True</td>\n",
       "    </tr>\n",
       "    <tr>\n",
       "      <th>6</th>\n",
       "      <td>33969</td>\n",
       "      <td>White</td>\n",
       "      <td>Male</td>\n",
       "      <td>34.0</td>\n",
       "      <td>Sexual orientation</td>\n",
       "      <td>PD suspected C/V of violation/crime - street</td>\n",
       "      <td>True</td>\n",
       "    </tr>\n",
       "    <tr>\n",
       "      <th>7</th>\n",
       "      <td>40070</td>\n",
       "      <td>Asian</td>\n",
       "      <td>Male</td>\n",
       "      <td>60.0</td>\n",
       "      <td>Word</td>\n",
       "      <td>Moving violation</td>\n",
       "      <td>False</td>\n",
       "    </tr>\n",
       "    <tr>\n",
       "      <th>8</th>\n",
       "      <td>41927</td>\n",
       "      <td>Asian</td>\n",
       "      <td>Male</td>\n",
       "      <td>39.0</td>\n",
       "      <td>Refusal to provide shield number</td>\n",
       "      <td>Moving violation</td>\n",
       "      <td>False</td>\n",
       "    </tr>\n",
       "    <tr>\n",
       "      <th>9</th>\n",
       "      <td>41927</td>\n",
       "      <td>Asian</td>\n",
       "      <td>Male</td>\n",
       "      <td>39.0</td>\n",
       "      <td>Retaliatory summons</td>\n",
       "      <td>Moving violation</td>\n",
       "      <td>True</td>\n",
       "    </tr>\n",
       "  </tbody>\n",
       "</table>\n",
       "</div>"
      ],
      "text/plain": [
       "   complaint_id complainant_ethnicity complainant_gender  \\\n",
       "0         42835                 Black             Female   \n",
       "1         24601                 Black               Male   \n",
       "2         24601                 Black               Male   \n",
       "3         26146                 Black               Male   \n",
       "4         40253                   NaN                NaN   \n",
       "5         37256                 White               Male   \n",
       "6         33969                 White               Male   \n",
       "7         40070                 Asian               Male   \n",
       "8         41927                 Asian               Male   \n",
       "9         41927                 Asian               Male   \n",
       "\n",
       "   complainant_age_incident                             allegation  \\\n",
       "0                      38.0           Failure to provide RTKA card   \n",
       "1                      26.0                                 Action   \n",
       "2                      26.0                                   Race   \n",
       "3                      45.0                               Question   \n",
       "4                      16.0                         Physical force   \n",
       "5                      31.0  Refusal to process civilian complaint   \n",
       "6                      34.0                     Sexual orientation   \n",
       "7                      60.0                                   Word   \n",
       "8                      39.0       Refusal to provide shield number   \n",
       "9                      39.0                    Retaliatory summons   \n",
       "\n",
       "                                 contact_reason  substantiated  \n",
       "0                       Report-domestic dispute           True  \n",
       "1                              Moving violation           True  \n",
       "2                              Moving violation           True  \n",
       "3  PD suspected C/V of violation/crime - street           True  \n",
       "4                                Report-dispute           True  \n",
       "5                            C/V telephoned PCT           True  \n",
       "6  PD suspected C/V of violation/crime - street           True  \n",
       "7                              Moving violation          False  \n",
       "8                              Moving violation          False  \n",
       "9                              Moving violation           True  "
      ]
     },
<<<<<<< HEAD
     "execution_count": 11,
=======
     "execution_count": 7,
>>>>>>> main
     "metadata": {},
     "output_type": "execute_result"
    }
   ],
   "source": [
    "relevant.head(10)"
   ]
  },
  {
   "cell_type": "code",
<<<<<<< HEAD
   "execution_count": 12,
=======
   "execution_count": 8,
>>>>>>> main
   "metadata": {},
   "outputs": [
    {
     "data": {
      "text/html": [
       "<div>\n",
       "<style scoped>\n",
       "    .dataframe tbody tr th:only-of-type {\n",
       "        vertical-align: middle;\n",
       "    }\n",
       "\n",
       "    .dataframe tbody tr th {\n",
       "        vertical-align: top;\n",
       "    }\n",
       "\n",
       "    .dataframe thead th {\n",
       "        text-align: right;\n",
       "    }\n",
       "</style>\n",
       "<table border=\"1\" class=\"dataframe\">\n",
       "  <thead>\n",
       "    <tr style=\"text-align: right;\">\n",
       "      <th></th>\n",
       "      <th>substantiated</th>\n",
       "    </tr>\n",
       "    <tr>\n",
       "      <th>complainant_ethnicity</th>\n",
       "      <th></th>\n",
       "    </tr>\n",
       "  </thead>\n",
       "  <tbody>\n",
       "    <tr>\n",
       "      <th>American Indian</th>\n",
       "      <td>0.359375</td>\n",
       "    </tr>\n",
       "    <tr>\n",
       "      <th>Asian</th>\n",
       "      <td>0.291353</td>\n",
       "    </tr>\n",
       "    <tr>\n",
       "      <th>Black</th>\n",
       "      <td>0.237992</td>\n",
       "    </tr>\n",
       "    <tr>\n",
       "      <th>Hispanic</th>\n",
       "      <td>0.244707</td>\n",
       "    </tr>\n",
       "    <tr>\n",
       "      <th>Other Race</th>\n",
       "      <td>0.268833</td>\n",
       "    </tr>\n",
       "    <tr>\n",
       "      <th>Refused</th>\n",
       "      <td>0.270270</td>\n",
       "    </tr>\n",
       "    <tr>\n",
       "      <th>White</th>\n",
       "      <td>0.279195</td>\n",
       "    </tr>\n",
       "  </tbody>\n",
       "</table>\n",
       "</div>"
      ],
      "text/plain": [
       "                       substantiated\n",
       "complainant_ethnicity               \n",
       "American Indian             0.359375\n",
       "Asian                       0.291353\n",
       "Black                       0.237992\n",
       "Hispanic                    0.244707\n",
       "Other Race                  0.268833\n",
       "Refused                     0.270270\n",
       "White                       0.279195"
      ]
     },
<<<<<<< HEAD
     "execution_count": 12,
=======
     "execution_count": 8,
>>>>>>> main
     "metadata": {},
     "output_type": "execute_result"
    }
   ],
   "source": [
    "relevant[['complainant_ethnicity', 'substantiated']].groupby(\"complainant_ethnicity\").mean()"
   ]
  },
  {
   "cell_type": "code",
<<<<<<< HEAD
   "execution_count": 13,
=======
   "execution_count": 9,
>>>>>>> main
   "metadata": {},
   "outputs": [
    {
     "data": {
      "text/plain": [
       "0.24884585406798967"
      ]
     },
<<<<<<< HEAD
     "execution_count": 13,
=======
     "execution_count": 9,
>>>>>>> main
     "metadata": {},
     "output_type": "execute_result"
    }
   ],
   "source": [
    "relevant['substantiated'].mean()"
   ]
  },
  {
   "cell_type": "code",
<<<<<<< HEAD
   "execution_count": 14,
=======
   "execution_count": 10,
>>>>>>> main
   "metadata": {},
   "outputs": [],
   "source": [
    "def mcar(dataset : pd.DataFrame, column : str, p = 0.2):\n",
    "    \"\"\"\n",
    "    Missing Completely at Random -- there is no dependency of the rate of\n",
    "    missingness on other values or the value itself.\n",
    "    \n",
    "    dataset: the dataframe\n",
    "    column: the column in which missingness will be produced\n",
    "    p: The probability in which each value has of being missing\n",
    "\n",
    "    Generated with each value having probability p of being a missing value\n",
    "    \"\"\"\n",
<<<<<<< HEAD
    "    # check for p\n",
    "    if (p < 0) or (p > 1):\n",
    "        raise Exception('probability of missing values must be between 0 and 1')\n",
    "\n",
    "    # go over values in the target column, \n",
    "    # randomly make it missing based on probability p\n",
    "    for i, val in enumerate(dataset[column]):\n",
    "        if np.random.choice([1, 0], p = [p, 1 - p]) == 1:\n",
    "                dataset[column].iloc[i] = np.nan\n",
    "    \n",
    "    # return edited dataset\n",
=======
    "    if (p < 0) or (p > 1):\n",
    "        raise Exception('probability of missing values must be between 0 and 1')\n",
    "    for i, val in enumerate(dataset[column]):\n",
    "        if np.random.choice([1, 0], p = [p, 1 - p]) == 1:\n",
    "                dataset[column].iloc[i] = np.nan\n",
>>>>>>> main
    "    return dataset"
   ]
  },
  {
   "cell_type": "code",
<<<<<<< HEAD
   "execution_count": 15,
=======
   "execution_count": 11,
>>>>>>> main
   "metadata": {},
   "outputs": [],
   "source": [
    "def mar(dataset : pd.DataFrame, miss_column : str, dep_column : str, b = 0.5):\n",
    "    \"\"\"\n",
    "    Missing at Random -- data is missing due to dependency on another\n",
    "    variable.\n",
    "    \n",
    "    dataset: the dataframe\n",
    "    miss_column: the column in which missingness will be produced\n",
    "    dep_column: the column in which missingness is dependent on\n",
    "    b: tuning parameter between 0 and 1; the higher the beta, the more missingness\n",
    "\n",
    "    Missingness is generated differently depeending on the type of the dependent column.\n",
    "    If the dep_column is categorical, for each unique categorical value, a random z-score is\n",
    "    generated from a normal distribution and put into a sigmoid function. This will produce\n",
    "    a probability for each unique value of dep_column. For a dep_column with a numerical type,\n",
    "    the z-score of each value is determined and passed into a sigmoid function to determine\n",
    "    the probability of missingness for each value. Then, for each tuple in the dataframe, the\n",
    "    probability that each value in miss_column will be missing is determined by the probability\n",
    "    generated by the sigmoid function of that tuples' dep_column value. The beta value is\n",
    "    multiplied by the generated probability as a way to tune how much missingness is generated.\n",
    "    The higher the beta value (between 0 and 1), the more missingness is generated. \n",
    "    \"\"\"\n",
<<<<<<< HEAD
    "    # check for beta\n",
    "    if (b < 0) or (b > 1):\n",
    "        raise Exception('beta value must be between 0 and 1')\n",
    "\n",
    "    # helper sigmoid function\n",
    "    def sig(x):\n",
    "        return 1 / (1 + np.exp(-x))\n",
    "    \n",
    "\n",
    "    # check for categorical\n",
    "    if (dataset.dtypes.loc[dep_column] == object) or (dataset.dtypes.loc[dep_column] == bool):\n",
    "        # generate probabilities -> sigmoid for each unique categorical value\n",
    "        cat_dict = {cat: sig(np.random.normal()) for cat in dataset[dep_column].unique()}\n",
    "        \n",
    "        # generate missingness based on generated probabilities\n",
=======
    "    if (b < 0) or (b > 1):\n",
    "        raise Exception('beta value must be between 0 and 1')\n",
    "    def sig(x):\n",
    "        return 1 / (1 + np.exp(-x))\n",
    "    if (dataset.dtypes.loc[dep_column] == object) or (dataset.dtypes.loc[dep_column] == bool):\n",
    "        cat_dict = {cat: sig(np.random.normal()) for cat in dataset[dep_column].unique()}\n",
>>>>>>> main
    "        for i in range(dataset.shape[0]):\n",
    "            dep_val = dataset.iloc[i, dataset.columns.get_loc(dep_column)]\n",
    "            if np.random.choice([1, 0], p = [cat_dict[dep_val] * b, 1 - (cat_dict[dep_val] * b)]) == 1:\n",
    "                dataset[miss_column].iloc[i] = np.nan\n",
    "    else:\n",
<<<<<<< HEAD
    "        # normalize the value (create Z value)\n",
    "        def norm(val, mean, std):\n",
    "            return (val - mean) / std\n",
    "        \n",
    "        # take mean and standard deviation for Z-value\n",
    "        mean = np.mean(dataset[dep_column])\n",
    "        std = np.std(dataset[dep_column])\n",
    "\n",
    "        # generate missingness using normal distribution\n",
=======
    "        def norm(val, mean, std):\n",
    "            return (val - mean) / std\n",
    "        mean = np.mean(dataset[dep_column])\n",
    "        std = np.std(dataset[dep_column])\n",
>>>>>>> main
    "        for i in range(dataset.shape[0]):\n",
    "            dep_val = dataset.iloc[i, dataset.columns.get_loc(dep_column)]\n",
    "            prob = sig(norm(dep_val, mean, std))\n",
    "            if np.random.choice([1, 0], p = [prob * b, 1 - (prob * b)]) == 1:\n",
<<<<<<< HEAD
    "                dataset[miss_column].iloc[i] = np.nan\n",
    "        \n",
    "\n",
=======
    "                dataset[column].iloc[i] = np.nan\n",
>>>>>>> main
    "    return dataset"
   ]
  },
  {
   "cell_type": "code",
<<<<<<< HEAD
   "execution_count": 16,
=======
   "execution_count": 13,
>>>>>>> main
   "metadata": {},
   "outputs": [],
   "source": [
    "def nmar(dataset : pd.DataFrame, column : str, b = 0.5):\n",
    "    \"\"\"\n",
    "    Not Missing at Random -- data is missing due to the value of the variable\n",
    "    itself. For example, sales not recorded for the stores that produced less\n",
    "    than a specific amount of revenue.\n",
    "    \n",
    "    dataset: the dataframe\n",
    "    column: the column in which missingness will be produced\n",
    "    b: tuning parameter between 0 and 1; the higher the beta, the more missingness\n",
    "\n",
    "    Missingness is generated differently depending on the type of the column.\n",
    "    If the column is categorical, for each unique categorical value, a random z-score is\n",
    "    generated from a normal distribution and put into a sigmoid function. This will produce\n",
    "    a probability for each unique value of the column. If the column is numerical, the \n",
    "    z-score of each value is determined and passed into a sigmoid function to determine\n",
    "    the probability of missingness for each value. Whether each value in the column will\n",
    "    be missing is determined by the probability generated by the sigmoid function. The \n",
    "    beta value is multiplied by the generated probability as a way to tune how much \n",
    "    missingness is generated. The higher the beta value (between 0 and 1), the more\n",
    "    missingness is generated. \n",
    "    \"\"\"\n",
<<<<<<< HEAD
    "    # check for beta\n",
    "    if (b < 0) or (b > 1):\n",
    "        raise Exception('beta value must be between 0 and 1')\n",
    "\n",
    "    # helper sigmoid function\n",
    "    def sig(x):\n",
    "        return 1 / (1 + np.exp(-x))\n",
    "    \n",
    "    # check for categorical\n",
    "    if (dataset.dtypes.loc[column] == object) or (dataset.dtypes.loc[column] == bool):\n",
    "        # create probabilities based on normal distribution, passed through sigmoid\n",
    "        cat_dict = {cat: sig(np.random.normal()) for cat in dataset[column].unique()}\n",
    "\n",
    "        # generate missing values based on probabilities calculated\n",
=======
    "    if (b < 0) or (b > 1):\n",
    "        raise Exception('beta value must be between 0 and 1')\n",
    "    def sig(x):\n",
    "        return 1 / (1 + np.exp(-x))\n",
    "    if (dataset.dtypes.loc[column] == object) or (dataset.dtypes.loc[column] == bool):\n",
    "        cat_dict = {cat: sig(np.random.normal()) for cat in dataset[column].unique()}\n",
>>>>>>> main
    "        for i, val in enumerate(dataset[column]):\n",
    "            if np.random.choice([1, 0], p = [cat_dict[val] * b, 1 - (cat_dict[val] * b)]) == 1:\n",
    "                dataset[column].iloc[i] = np.nan\n",
    "    else:\n",
<<<<<<< HEAD
    "        # Z-value\n",
    "        def norm(val, mean, std):\n",
    "            return (val - mean) / std\n",
    "\n",
    "        # find mean and std for normalization\n",
    "        mean = np.mean(dataset[column])\n",
    "        std = np.std(dataset[column])\n",
    "\n",
    "        # generate missingness using probabilities\n",
=======
    "        def norm(val, mean, std):\n",
    "            return (val - mean) / std\n",
    "        mean = np.mean(dataset[column])\n",
    "        std = np.std(dataset[column])\n",
>>>>>>> main
    "        for i, val in enumerate(dataset[column]):\n",
    "            prob = sig(norm(val, mean, std))\n",
    "            if np.random.choice([1, 0], p = [prob * b, 1 - (prob * b)]) == 1:\n",
    "                dataset[column].iloc[i] = np.nan\n",
<<<<<<< HEAD
    "    \n",
    "    return dataset"
   ]
  },
  {
   "attachments": {},
   "cell_type": "markdown",
   "metadata": {},
   "source": [
    "## Plotting"
   ]
  },
  {
   "cell_type": "code",
   "execution_count": 40,
   "metadata": {},
   "outputs": [
    {
     "name": "stderr",
     "output_type": "stream",
     "text": [
      "C:\\Users\\yurib\\AppData\\Local\\Temp/ipykernel_4180/1162352191.py:16: UserWarning: FixedFormatter should only be used together with FixedLocator\n",
      "  ax.set_xticklabels(['']+['a', 'b', 'c', 'd'])\n",
      "C:\\Users\\yurib\\AppData\\Local\\Temp/ipykernel_4180/1162352191.py:17: UserWarning: FixedFormatter should only be used together with FixedLocator\n",
      "  ax.set_yticklabels(['']+['e', 'f', 'g', 'h'])\n"
     ]
    },
    {
     "data": {
      "image/png": "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",
      "text/plain": [
       "<Figure size 432x288 with 1 Axes>"
      ]
     },
     "metadata": {
      "needs_background": "light"
     },
     "output_type": "display_data"
    }
   ],
   "source": [
    "matrix = np.array([\n",
    "    [1, 2, 3, 4],\n",
    "    [2, 3, 4, 5],\n",
    "    [2, 2, 4, 4],\n",
    "    [1, 2, 3, 4]\n",
    "])\n",
    "\n",
    "fig, ax = plt.subplots()\n",
    "im = ax.matshow(matrix)\n",
    "\n",
    "for i in range((matrix.shape[0])):\n",
    "    for j in range((matrix.shape[1])):\n",
    "        text = ax.text(j, i, matrix[i, j],\n",
    "                       ha=\"center\", va=\"center\", color=\"black\", fontsize=15)\n",
    "\n",
    "ax.set_xticklabels(['']+['a', 'b', 'c', 'd'])\n",
    "ax.set_yticklabels(['']+['e', 'f', 'g', 'h'])\n",
    "\n",
    "plt.show()"
   ]
  },
  {
   "cell_type": "code",
   "execution_count": 41,
   "metadata": {},
   "outputs": [],
   "source": [
    "def plot_results(results_matrix : np.array):\n",
    "    fig, ax = plt.subplots()\n",
    "    im = ax.matshow(results_matrix)\n",
    "\n",
    "    for i in range((results_matrix.shape[0])):\n",
    "        for j in range((results_matrix.shape[1])):\n",
    "            text = ax.text(j, i, results_matrix[i, j],\n",
    "                        ha=\"center\", va=\"center\", color=\"black\", fontsize=15)\n",
    "\n",
    "    ax.set_xticklabels(['']+['insert', 'fairness', 'notions', 'here'])\n",
    "    ax.set_yticklabels(['']+['No Missing', 'MCAR', 'MAR', 'NMAR'])\n",
    "\n",
    "    plt.show()\n"
   ]
  },
  {
   "cell_type": "code",
   "execution_count": 42,
   "metadata": {},
   "outputs": [
    {
     "name": "stderr",
     "output_type": "stream",
     "text": [
      "C:\\Users\\yurib\\AppData\\Local\\Temp/ipykernel_4180/718290482.py:10: UserWarning: FixedFormatter should only be used together with FixedLocator\n",
      "  ax.set_xticklabels(['']+['insert', 'fairness', 'notions', 'here'])\n",
      "C:\\Users\\yurib\\AppData\\Local\\Temp/ipykernel_4180/718290482.py:11: UserWarning: FixedFormatter should only be used together with FixedLocator\n",
      "  ax.set_yticklabels(['']+['No Missing', 'MCAR', 'MAR', 'NMAR'])\n"
     ]
    },
    {
     "data": {
      "image/png": "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",
      "text/plain": [
       "<Figure size 432x288 with 1 Axes>"
      ]
     },
     "metadata": {
      "needs_background": "light"
     },
     "output_type": "display_data"
    }
   ],
   "source": [
    "plot_results(results_matrix=matrix)"
=======
    "    return dataset"
>>>>>>> main
   ]
  },
  {
   "cell_type": "code",
   "execution_count": null,
   "metadata": {},
   "outputs": [],
   "source": []
  }
 ],
 "metadata": {
  "kernelspec": {
   "display_name": "Python 3 (ipykernel)",
   "language": "python",
   "name": "python3"
  },
  "language_info": {
   "codemirror_mode": {
    "name": "ipython",
    "version": 3
   },
   "file_extension": ".py",
   "mimetype": "text/x-python",
   "name": "python",
   "nbconvert_exporter": "python",
   "pygments_lexer": "ipython3",
   "version": "3.8.10"
  },
  "vscode": {
   "interpreter": {
    "hash": "70c0dacd202222ca695fa59951b51dfd4fb0f619fc704412026323d99363e9b2"
   }
  }
 },
 "nbformat": 4,
 "nbformat_minor": 2
}
