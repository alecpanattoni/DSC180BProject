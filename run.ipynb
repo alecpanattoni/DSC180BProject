{
 "cells": [
  {
   "cell_type": "code",
   "execution_count": 1,
   "id": "a0306114",
   "metadata": {
    "scrolled": true
   },
   "outputs": [
    {
     "name": "stderr",
     "output_type": "stream",
     "text": [
      "/home/gykim/MissingnessFairnessAnalysis/src/data_generation.py:234: UserWarning: FixedFormatter should only be used together with FixedLocator\n",
      "  ax.set_xticklabels(['']+['a', 'b', 'c', 'd'])\n",
      "/home/gykim/MissingnessFairnessAnalysis/src/data_generation.py:235: UserWarning: FixedFormatter should only be used together with FixedLocator\n",
      "  ax.set_yticklabels(['']+['e', 'f', 'g', 'h'])\n"
     ]
    },
    {
     "data": {
      "image/png": "[encoded data removed]",
      "text/plain": [
       "<Figure size 432x288 with 1 Axes>"
      ]
     },
     "metadata": {
      "needs_background": "light"
     },
     "output_type": "display_data"
    },
    {
     "name": "stderr",
     "output_type": "stream",
     "text": [
      "/home/gykim/MissingnessFairnessAnalysis/src/data_generation.py:252: UserWarning: FixedFormatter should only be used together with FixedLocator\n",
      "  ax.set_xticklabels(['']+['insert', 'fairness', 'notions', 'here'])\n",
      "/home/gykim/MissingnessFairnessAnalysis/src/data_generation.py:253: UserWarning: FixedFormatter should only be used together with FixedLocator\n",
      "  ax.set_yticklabels(['']+['No Missing', 'MCAR', 'MAR', 'NMAR'])\n"
     ]
    },
    {
     "data": {
      "image/png": "[encoded data removed]",
      "text/plain": [
       "<Figure size 432x288 with 1 Axes>"
      ]
     },
     "metadata": {
      "needs_background": "light"
     },
     "output_type": "display_data"
    },
    {
     "name": "stderr",
     "output_type": "stream",
     "text": [
      "WARNING:root:No module named 'tempeh': LawSchoolGPADataset will be unavailable. To install, run:\n",
      "pip install 'aif360[LawSchoolGPA]'\n",
      "WARNING:root:No module named 'fairlearn': ExponentiatedGradientReduction will be unavailable. To install, run:\n",
      "pip install 'aif360[Reductions]'\n",
      "WARNING:root:No module named 'fairlearn': GridSearchReduction will be unavailable. To install, run:\n",
      "pip install 'aif360[Reductions]'\n",
      "WARNING:root:No module named 'fairlearn': GridSearchReduction will be unavailable. To install, run:\n",
      "pip install 'aif360[Reductions]'\n"
     ]
    }
   ],
   "source": [
    "import pandas as pd\n",
    "import os\n",
    "import sys\n",
    "from src.cleaning import datacleaning\n",
    "from src import data_generation\n",
    "from src.preparation import model_perform\n",
    "import pandas as pd\n",
    "import numpy as np\n",
    "import aif360\n",
    "from sklearn.model_selection import train_test_split\n",
    "from aif360.sklearn.metrics import statistical_parity_difference\n",
    "from aif360.sklearn.metrics import average_odds_difference\n",
    "from aif360.sklearn.metrics import equal_opportunity_difference"
   ]
  },
  {
   "cell_type": "code",
   "execution_count": 2,
   "id": "7f9be16c",
   "metadata": {},
   "outputs": [],
   "source": [
    "data = datacleaning.cleaning(os.path.join(os.path.dirname(\n",
    "    os.path.realpath('run.py')) + '/data/allegations_raw.csv'))"
   ]
  },
  {
   "cell_type": "code",
   "execution_count": 3,
   "id": "a0836bcd",
   "metadata": {},
   "outputs": [],
   "source": [
    "target = sys.argv[1]\n",
    "\n",
    "if target == \"test\":\n",
    "    data = datacleaning.cleaning(os.path.join(os.path.dirname(\n",
    "        os.path.realpath('run.py')) + '/data/test.csv'))\n",
    "\n",
    "if target == \"all\":\n",
    "    data = datacleaning.cleaning(os.path.join(os.path.dirname(\n",
    "        os.path.realpath('run.py')) + '/data/allegations_raw.csv'))"
   ]
  },
  {
   "cell_type": "code",
   "execution_count": 4,
   "id": "c7f71e84",
   "metadata": {},
   "outputs": [
    {
     "data": {
      "text/plain": [
       "complaint_id                0\n",
       "complainant_ethnicity       0\n",
       "complainant_age_incident    0\n",
       "allegation                  0\n",
       "contact_reason              0\n",
       "substantiated               0\n",
       "dtype: int64"
      ]
     },
     "execution_count": 4,
     "metadata": {},
     "output_type": "execute_result"
    }
   ],
   "source": [
    "data.isna().sum()"
   ]
  },
  {
   "cell_type": "code",
   "execution_count": 5,
   "id": "069dbf3f",
   "metadata": {},
   "outputs": [
    {
     "data": {
      "text/html": [
       "<div>\n",
       "<style scoped>\n",
       "    .dataframe tbody tr th:only-of-type {\n",
       "        vertical-align: middle;\n",
       "    }\n",
       "\n",
       "    .dataframe tbody tr th {\n",
       "        vertical-align: top;\n",
       "    }\n",
       "\n",
       "    .dataframe thead th {\n",
       "        text-align: right;\n",
       "    }\n",
       "</style>\n",
       "<table border=\"1\" class=\"dataframe\">\n",
       "  <thead>\n",
       "    <tr style=\"text-align: right;\">\n",
       "      <th></th>\n",
       "      <th>complaint_id</th>\n",
       "      <th>complainant_ethnicity</th>\n",
       "      <th>complainant_age_incident</th>\n",
       "      <th>allegation</th>\n",
       "      <th>contact_reason</th>\n",
       "      <th>substantiated</th>\n",
       "    </tr>\n",
       "  </thead>\n",
       "  <tbody>\n",
       "    <tr>\n",
       "      <th>0</th>\n",
       "      <td>42835</td>\n",
       "      <td>Black</td>\n",
       "      <td>38.0</td>\n",
       "      <td>Failure to provide RTKA card</td>\n",
       "      <td>Report-domestic dispute</td>\n",
       "      <td>True</td>\n",
       "    </tr>\n",
       "    <tr>\n",
       "      <th>1</th>\n",
       "      <td>24601</td>\n",
       "      <td>Black</td>\n",
       "      <td>26.0</td>\n",
       "      <td>Action</td>\n",
       "      <td>Moving violation</td>\n",
       "      <td>True</td>\n",
       "    </tr>\n",
       "    <tr>\n",
       "      <th>2</th>\n",
       "      <td>24601</td>\n",
       "      <td>Black</td>\n",
       "      <td>26.0</td>\n",
       "      <td>Race</td>\n",
       "      <td>Moving violation</td>\n",
       "      <td>True</td>\n",
       "    </tr>\n",
       "    <tr>\n",
       "      <th>3</th>\n",
       "      <td>26146</td>\n",
       "      <td>Black</td>\n",
       "      <td>45.0</td>\n",
       "      <td>Question</td>\n",
       "      <td>PD suspected C/V of violation/crime - street</td>\n",
       "      <td>True</td>\n",
       "    </tr>\n",
       "    <tr>\n",
       "      <th>5</th>\n",
       "      <td>37256</td>\n",
       "      <td>White</td>\n",
       "      <td>31.0</td>\n",
       "      <td>Refusal to process civilian complaint</td>\n",
       "      <td>C/V telephoned PCT</td>\n",
       "      <td>True</td>\n",
       "    </tr>\n",
       "  </tbody>\n",
       "</table>\n",
       "</div>"
      ],
      "text/plain": [
       "   complaint_id complainant_ethnicity  complainant_age_incident  \\\n",
       "0         42835                 Black                      38.0   \n",
       "1         24601                 Black                      26.0   \n",
       "2         24601                 Black                      26.0   \n",
       "3         26146                 Black                      45.0   \n",
       "5         37256                 White                      31.0   \n",
       "\n",
       "                              allegation  \\\n",
       "0           Failure to provide RTKA card   \n",
       "1                                 Action   \n",
       "2                                   Race   \n",
       "3                               Question   \n",
       "5  Refusal to process civilian complaint   \n",
       "\n",
       "                                 contact_reason  substantiated  \n",
       "0                       Report-domestic dispute           True  \n",
       "1                              Moving violation           True  \n",
       "2                              Moving violation           True  \n",
       "3  PD suspected C/V of violation/crime - street           True  \n",
       "5                            C/V telephoned PCT           True  "
      ]
     },
     "execution_count": 5,
     "metadata": {},
     "output_type": "execute_result"
    }
   ],
   "source": [
    "data.head()"
   ]
  },
  {
   "cell_type": "code",
   "execution_count": 6,
   "id": "a17adee2",
   "metadata": {},
   "outputs": [],
   "source": [
    "train, test = train_test_split(data, train_size=0.8)"
   ]
  },
  {
   "cell_type": "markdown",
   "id": "584b4eb3",
   "metadata": {},
   "source": [
    "## Missingness Creation"
   ]
  },
  {
   "cell_type": "markdown",
   "id": "11b9a145",
   "metadata": {},
   "source": [
    "We want the attribute with missingness to have around the same proportion of missingness for each type. This is because we don't want the amount of missingness to be a confounding factor in our results."
   ]
  },
  {
   "cell_type": "code",
   "execution_count": 7,
   "id": "0c9003b0",
   "metadata": {},
   "outputs": [
    {
     "name": "stderr",
     "output_type": "stream",
     "text": [
      "/home/gykim/MissingnessFairnessAnalysis/src/data_generation.py:86: SettingWithCopyWarning: \n",
      "A value is trying to be set on a copy of a slice from a DataFrame\n",
      "\n",
      "See the caveats in the documentation: https://pandas.pydata.org/pandas-docs/stable/user_guide/indexing.html#returning-a-view-versus-a-copy\n",
      "  dataset[column].iloc[i] = np.nan\n"
     ]
    }
   ],
   "source": [
    "t = train.copy()\n",
    "mcar = data_generation.mcar(t, 'substantiated')"
   ]
  },
  {
   "cell_type": "code",
   "execution_count": 8,
   "id": "0e9551b5",
   "metadata": {},
   "outputs": [
    {
     "data": {
      "text/plain": [
       "0.1981545770144345"
      ]
     },
     "execution_count": 8,
     "metadata": {},
     "output_type": "execute_result"
    }
   ],
   "source": [
    "mcar['substantiated'].isna().sum() / mcar.shape[0]"
   ]
  },
  {
   "cell_type": "code",
   "execution_count": 9,
   "id": "d9665fbf",
   "metadata": {},
   "outputs": [],
   "source": [
    "mcar = mcar.dropna(subset = 'substantiated')"
   ]
  },
  {
   "cell_type": "code",
   "execution_count": 10,
   "id": "d37671df",
   "metadata": {},
   "outputs": [
    {
     "name": "stderr",
     "output_type": "stream",
     "text": [
      "/home/gykim/MissingnessFairnessAnalysis/src/data_generation.py:134: SettingWithCopyWarning: \n",
      "A value is trying to be set on a copy of a slice from a DataFrame\n",
      "\n",
      "See the caveats in the documentation: https://pandas.pydata.org/pandas-docs/stable/user_guide/indexing.html#returning-a-view-versus-a-copy\n",
      "  dataset[miss_column].iloc[i] = np.nan\n"
     ]
    }
   ],
   "source": [
    "t = train.copy()\n",
    "mar = data_generation.mar(t, 'substantiated', 'complainant_ethnicity', 0.3)"
   ]
  },
  {
   "cell_type": "code",
   "execution_count": 11,
   "id": "78d7a05c",
   "metadata": {},
   "outputs": [
    {
     "data": {
      "text/plain": [
       "0.12388086972410013"
      ]
     },
     "execution_count": 11,
     "metadata": {},
     "output_type": "execute_result"
    }
   ],
   "source": [
    "mar['substantiated'].isna().sum() / mar.shape[0]"
   ]
  },
  {
   "cell_type": "code",
   "execution_count": 12,
   "id": "550eec64",
   "metadata": {},
   "outputs": [],
   "source": [
    "mar = mar.dropna(subset = 'substantiated')"
   ]
  },
  {
   "cell_type": "code",
   "execution_count": 13,
   "id": "e0c7eac2",
   "metadata": {},
   "outputs": [
    {
     "name": "stderr",
     "output_type": "stream",
     "text": [
      "/home/gykim/MissingnessFairnessAnalysis/src/data_generation.py:195: SettingWithCopyWarning: \n",
      "A value is trying to be set on a copy of a slice from a DataFrame\n",
      "\n",
      "See the caveats in the documentation: https://pandas.pydata.org/pandas-docs/stable/user_guide/indexing.html#returning-a-view-versus-a-copy\n",
      "  dataset[column].iloc[i] = np.nan\n"
     ]
    }
   ],
   "source": [
    "t = train.copy()\n",
    "nmar = data_generation.nmar(t, 'substantiated', 0.3)"
   ]
  },
  {
   "cell_type": "code",
   "execution_count": 14,
   "id": "91e6f66b",
   "metadata": {},
   "outputs": [
    {
     "data": {
      "text/plain": [
       "0.0753243193860771"
      ]
     },
     "execution_count": 14,
     "metadata": {},
     "output_type": "execute_result"
    }
   ],
   "source": [
    "nmar['substantiated'].isna().sum() / nmar.shape[0]"
   ]
  },
  {
   "cell_type": "code",
   "execution_count": 15,
   "id": "8e30cfe9",
   "metadata": {},
   "outputs": [],
   "source": [
    "nmar = nmar.dropna(subset = 'substantiated')"
   ]
  },
  {
   "cell_type": "markdown",
   "id": "d5c14eb6",
   "metadata": {},
   "source": [
    "Now we will \"handle\" the missingness by dropping missing values."
   ]
  },
  {
   "cell_type": "markdown",
   "id": "9f3aa438",
   "metadata": {},
   "source": [
    "## Applying Fairness Notions\n"
   ]
  },
  {
   "cell_type": "code",
   "execution_count": 16,
   "id": "776e6a21",
   "metadata": {},
   "outputs": [],
   "source": [
    "cat = [\"complainant_ethnicity\", \"complainant_age_incident\", \"allegation\", \"contact_reason\"]"
   ]
  },
  {
   "cell_type": "markdown",
   "id": "3e0ad122",
   "metadata": {},
   "source": [
    "### Calculating fairnes notions for No Missingness At All"
   ]
  },
  {
   "cell_type": "code",
   "execution_count": 18,
   "id": "c7be59a1",
   "metadata": {},
   "outputs": [
    {
     "name": "stderr",
     "output_type": "stream",
     "text": [
      "/home/gykim/.local/lib/python3.9/site-packages/sklearn/utils/validation.py:1858: FutureWarning: Feature names only support names that are all strings. Got feature names with dtypes: ['int', 'str']. An error will be raised in 1.2.\n",
      "  warnings.warn(\n",
      "/home/gykim/.local/lib/python3.9/site-packages/sklearn/linear_model/_logistic.py:444: ConvergenceWarning: lbfgs failed to converge (status=1):\n",
      "STOP: TOTAL NO. of ITERATIONS REACHED LIMIT.\n",
      "\n",
      "Increase the number of iterations (max_iter) or scale the data as shown in:\n",
      "    https://scikit-learn.org/stable/modules/preprocessing.html\n",
      "Please also refer to the documentation for alternative solver options:\n",
      "    https://scikit-learn.org/stable/modules/linear_model.html#logistic-regression\n",
      "  n_iter_i = _check_optimize_result(\n",
      "/home/gykim/.local/lib/python3.9/site-packages/sklearn/utils/validation.py:1858: FutureWarning: Feature names only support names that are all strings. Got feature names with dtypes: ['int', 'str']. An error will be raised in 1.2.\n",
      "  warnings.warn(\n"
     ]
    },
    {
     "name": "stdout",
     "output_type": "stream",
     "text": [
      "accuracy: 0.6426091723003837\n",
      "atatistical parity: 0.4269005847953216\n",
      "equality of odds: 0.4977000411496514\n",
      "equality of opportunity: 0.6390922401171303\n"
     ]
    },
    {
     "name": "stderr",
     "output_type": "stream",
     "text": [
      "/home/gykim/.local/lib/python3.9/site-packages/sklearn/metrics/_classification.py:1334: UndefinedMetricWarning: Recall is ill-defined and being set to 0.0 due to no true samples. Use `zero_division` parameter to control this behavior.\n",
      "  _warn_prf(average, modifier, msg_start, len(result))\n",
      "/home/gykim/.local/lib/python3.9/site-packages/sklearn/metrics/_classification.py:1334: UndefinedMetricWarning: Recall is ill-defined and being set to 0.0 due to no true samples. Use `zero_division` parameter to control this behavior.\n",
      "  _warn_prf(average, modifier, msg_start, len(result))\n"
     ]
    }
   ],
   "source": [
    "#storing fairness notions for no missingness\n",
    "no_missing_fairness = []\n",
    "no_missing = model_perform.model(train, test, cat)\n",
    "no_missing_fairness.append(no_missing)\n"
   ]
  },
  {
   "cell_type": "code",
   "execution_count": 19,
   "id": "7926f6b4",
   "metadata": {},
   "outputs": [
    {
     "data": {
      "text/plain": [
       "[0.6426091723003837,\n",
       " 0.4269005847953216,\n",
       " 0.4977000411496514,\n",
       " 0.6390922401171303]"
      ]
     },
     "execution_count": 19,
     "metadata": {},
     "output_type": "execute_result"
    }
   ],
   "source": [
    "no_missing"
   ]
  },
  {
   "cell_type": "markdown",
   "id": "9550470b",
   "metadata": {},
   "source": [
    "### Fairness notions for NMAR"
   ]
  },
  {
   "cell_type": "code",
   "execution_count": 20,
   "id": "acdca1aa",
   "metadata": {},
   "outputs": [],
   "source": [
    "train_nmar, test_nmar = train_test_split(nmar, test_size=0.2)"
   ]
  },
  {
   "cell_type": "code",
   "execution_count": 21,
   "id": "a5a99e21",
   "metadata": {},
   "outputs": [
    {
     "name": "stderr",
     "output_type": "stream",
     "text": [
      "/home/gykim/.local/lib/python3.9/site-packages/sklearn/utils/validation.py:1858: FutureWarning: Feature names only support names that are all strings. Got feature names with dtypes: ['int', 'str']. An error will be raised in 1.2.\n",
      "  warnings.warn(\n"
     ]
    },
    {
     "name": "stdout",
     "output_type": "stream",
     "text": [
      "accuracy: 0.7959990121017535\n",
      "statistical parity: 0.03878458498023715\n",
      "equality of odds: 0.06531925756749164\n",
      "equality of opportunity: 0.11149825783972125\n"
     ]
    },
    {
     "name": "stderr",
     "output_type": "stream",
     "text": [
      "/home/gykim/.local/lib/python3.9/site-packages/sklearn/utils/validation.py:1858: FutureWarning: Feature names only support names that are all strings. Got feature names with dtypes: ['int', 'str']. An error will be raised in 1.2.\n",
      "  warnings.warn(\n",
      "/home/gykim/.local/lib/python3.9/site-packages/sklearn/metrics/_classification.py:1334: UndefinedMetricWarning: Recall is ill-defined and being set to 0.0 due to no true samples. Use `zero_division` parameter to control this behavior.\n",
      "  _warn_prf(average, modifier, msg_start, len(result))\n",
      "/home/gykim/.local/lib/python3.9/site-packages/sklearn/metrics/_classification.py:1334: UndefinedMetricWarning: Recall is ill-defined and being set to 0.0 due to no true samples. Use `zero_division` parameter to control this behavior.\n",
      "  _warn_prf(average, modifier, msg_start, len(result))\n"
     ]
    }
   ],
   "source": [
    "nmar_fairness = []\n",
    "nmar_model = model_perform.model_missing(train_nmar, test_nmar, cat)\n",
    "nmar_fairness.append(nmar_model)"
   ]
  },
  {
   "cell_type": "markdown",
   "id": "84ee07ea",
   "metadata": {},
   "source": [
    "### Fairness notions for MCAR"
   ]
  },
  {
   "cell_type": "code",
   "execution_count": 22,
   "id": "0a03e854",
   "metadata": {},
   "outputs": [],
   "source": [
    "train_mcar, test_mcar = train_test_split(mcar, test_size=0.2)\n"
   ]
  },
  {
   "cell_type": "code",
   "execution_count": 23,
   "id": "dfffff0e",
   "metadata": {},
   "outputs": [
    {
     "name": "stderr",
     "output_type": "stream",
     "text": [
      "/home/gykim/.local/lib/python3.9/site-packages/sklearn/utils/validation.py:1858: FutureWarning: Feature names only support names that are all strings. Got feature names with dtypes: ['int', 'str']. An error will be raised in 1.2.\n",
      "  warnings.warn(\n"
     ]
    },
    {
     "name": "stdout",
     "output_type": "stream",
     "text": [
      "accuracy: 0.7616063799487326\n",
      "statistical parity: 0.0584045584045584\n",
      "equality of odds: 0.08419341539343077\n",
      "equality of opportunity: 0.1351039260969977\n"
     ]
    },
    {
     "name": "stderr",
     "output_type": "stream",
     "text": [
      "/home/gykim/.local/lib/python3.9/site-packages/sklearn/utils/validation.py:1858: FutureWarning: Feature names only support names that are all strings. Got feature names with dtypes: ['int', 'str']. An error will be raised in 1.2.\n",
      "  warnings.warn(\n",
      "/home/gykim/.local/lib/python3.9/site-packages/sklearn/metrics/_classification.py:1334: UndefinedMetricWarning: Recall is ill-defined and being set to 0.0 due to no true samples. Use `zero_division` parameter to control this behavior.\n",
      "  _warn_prf(average, modifier, msg_start, len(result))\n",
      "/home/gykim/.local/lib/python3.9/site-packages/sklearn/metrics/_classification.py:1334: UndefinedMetricWarning: Recall is ill-defined and being set to 0.0 due to no true samples. Use `zero_division` parameter to control this behavior.\n",
      "  _warn_prf(average, modifier, msg_start, len(result))\n"
     ]
    }
   ],
   "source": [
    "mcar_fairness = []\n",
    "mcar_model = model_perform.model_missing(train_mcar, test_mcar, cat)\n",
    "mcar_fairness.append(mcar_model)"
   ]
  },
  {
   "cell_type": "markdown",
   "id": "b0017cc2",
   "metadata": {},
   "source": [
    "### Fairness notions for MAR"
   ]
  },
  {
   "cell_type": "code",
   "execution_count": 24,
   "id": "2ae2b7fc",
   "metadata": {},
   "outputs": [],
   "source": [
    "train_mar, test_mar = train_test_split(mar, test_size=0.2)\n"
   ]
  },
  {
   "cell_type": "code",
   "execution_count": 25,
   "id": "baeebfde",
   "metadata": {},
   "outputs": [
    {
     "name": "stderr",
     "output_type": "stream",
     "text": [
      "/home/gykim/.local/lib/python3.9/site-packages/sklearn/utils/validation.py:1858: FutureWarning: Feature names only support names that are all strings. Got feature names with dtypes: ['int', 'str']. An error will be raised in 1.2.\n",
      "  warnings.warn(\n"
     ]
    },
    {
     "name": "stdout",
     "output_type": "stream",
     "text": [
      "accuracy: 0.7708550573514077\n",
      "statistical parity: 0.05032594524119948\n",
      "equality of odds: 0.07710434818816819\n",
      "equality of opportunity: 0.12878787878787878\n"
     ]
    },
    {
     "name": "stderr",
     "output_type": "stream",
     "text": [
      "/home/gykim/.local/lib/python3.9/site-packages/sklearn/utils/validation.py:1858: FutureWarning: Feature names only support names that are all strings. Got feature names with dtypes: ['int', 'str']. An error will be raised in 1.2.\n",
      "  warnings.warn(\n",
      "/home/gykim/.local/lib/python3.9/site-packages/sklearn/metrics/_classification.py:1334: UndefinedMetricWarning: Recall is ill-defined and being set to 0.0 due to no true samples. Use `zero_division` parameter to control this behavior.\n",
      "  _warn_prf(average, modifier, msg_start, len(result))\n",
      "/home/gykim/.local/lib/python3.9/site-packages/sklearn/metrics/_classification.py:1334: UndefinedMetricWarning: Recall is ill-defined and being set to 0.0 due to no true samples. Use `zero_division` parameter to control this behavior.\n",
      "  _warn_prf(average, modifier, msg_start, len(result))\n"
     ]
    }
   ],
   "source": [
    "mar_fairness = []\n",
    "mar_model = model_perform.model_missing(train_mar, test_mar, cat)\n",
    "mar_fairness.append(mar_model)"
   ]
  },
  {
   "cell_type": "code",
   "execution_count": 26,
   "id": "83c94992",
   "metadata": {},
   "outputs": [],
   "source": [
    "#put our fairness statistics into arrays for future usage\n",
    "acc = [no_missing_fairness[0][0],nmar_fairness[0][0],mcar_fairness[0][0],mar_fairness[0][0]]\n",
    "par= [no_missing_fairness[0][1],nmar_fairness[0][1],mcar_fairness[0][1],mar_fairness[0][1]]\n",
    "odds= [no_missing_fairness[0][2],nmar_fairness[0][2],mcar_fairness[0][2],mar_fairness[0][2]]\n",
    "opp = [no_missing_fairness[0][3],nmar_fairness[0][3],mcar_fairness[0][3],mar_fairness[0][3]]"
   ]
  },
  {
   "cell_type": "markdown",
   "id": "4782fd68",
   "metadata": {},
   "source": [
    "## Visualizing Our Results"
   ]
  },
  {
   "cell_type": "code",
   "execution_count": 27,
   "id": "f1985f14",
   "metadata": {},
   "outputs": [],
   "source": [
    "import matplotlib.pyplot as plt"
   ]
  },
  {
   "cell_type": "code",
   "execution_count": 28,
   "id": "f030e3a6",
   "metadata": {},
   "outputs": [],
   "source": [
    "labels = ['No Missingess,', 'NMAR', 'MCAR', 'MAR']"
   ]
  },
  {
   "cell_type": "code",
   "execution_count": 29,
   "id": "a714f6ab",
   "metadata": {},
   "outputs": [
    {
     "data": {
      "text/plain": [
       "[<matplotlib.lines.Line2D at 0x7fa7cef827c0>]"
      ]
     },
     "execution_count": 29,
     "metadata": {},
     "output_type": "execute_result"
    },
    {
     "data": {
      "image/png": "[encoded data removed]",
      "text/plain": [
       "<Figure size 1440x720 with 1 Axes>"
      ]
     },
     "metadata": {
      "needs_background": "light"
     },
     "output_type": "display_data"
    }
   ],
   "source": [
    "plt.figure(figsize = (20, 10))\n",
    "plt.title('Statistical Parities')\n",
    "plt.xlabel('Missingness Type')\n",
    "plt.ylabel('Statistical Parotities')\n",
    "plt.ylim(min(par) - 0.1, max(par) + 0.1)\n",
    "plt.plot(labels, par, marker='.', markersize = 20)"
   ]
  },
  {
   "cell_type": "code",
   "execution_count": 30,
   "id": "672012ae",
   "metadata": {},
   "outputs": [
    {
     "data": {
      "text/plain": [
       "[<matplotlib.lines.Line2D at 0x7fa7cd4f39d0>]"
      ]
     },
     "execution_count": 30,
     "metadata": {},
     "output_type": "execute_result"
    },
    {
     "data": {
      "image/png": "[encoded data removed]",
      "text/plain": [
       "<Figure size 1440x720 with 1 Axes>"
      ]
     },
     "metadata": {
      "needs_background": "light"
     },
     "output_type": "display_data"
    }
   ],
   "source": [
    "plt.figure(figsize = (20, 10))\n",
    "plt.title('Equality of Odds')\n",
    "plt.xlabel('Missingness Type')\n",
    "plt.ylabel('Equality of Odds')\n",
    "plt.ylim(min(odds)-0.1,max(odds) + 0.1)\n",
    "plt.plot(labels, odds, marker='.', markersize = 20)"
   ]
  },
  {
   "cell_type": "code",
   "execution_count": 31,
   "id": "69974c90",
   "metadata": {},
   "outputs": [
    {
     "data": {
      "text/plain": [
       "[<matplotlib.lines.Line2D at 0x7fa7ccc8ea60>]"
      ]
     },
     "execution_count": 31,
     "metadata": {},
     "output_type": "execute_result"
    },
    {
     "data": {
      "image/png": "[encoded data removed]",
      "text/plain": [
       "<Figure size 1440x720 with 1 Axes>"
      ]
     },
     "metadata": {
      "needs_background": "light"
     },
     "output_type": "display_data"
    }
   ],
   "source": [
    "plt.figure(figsize = (20, 10))\n",
    "plt.title('Equality of Opportunity')\n",
    "plt.xlabel('Missingness Type')\n",
    "plt.ylabel('Equality of Opportunity')\n",
    "plt.ylim(min(opp)-0.1,max(opp) + 0.1)\n",
    "plt.plot(labels, opp, marker='.', markersize = 20)"
   ]
  },
  {
   "cell_type": "code",
   "execution_count": 32,
   "id": "7d025064",
   "metadata": {},
   "outputs": [
    {
     "data": {
      "text/plain": [
       "[<matplotlib.lines.Line2D at 0x7fa7ccc63fd0>]"
      ]
     },
     "execution_count": 32,
     "metadata": {},
     "output_type": "execute_result"
    },
    {
     "data": {
      "image/png": "[encoded data removed]",
      "text/plain": [
       "<Figure size 1440x720 with 1 Axes>"
      ]
     },
     "metadata": {
      "needs_background": "light"
     },
     "output_type": "display_data"
    }
   ],
   "source": [
    "plt.figure(figsize = (20, 10))\n",
    "plt.title('Accuracies')\n",
    "plt.xlabel('Missingness Type')\n",
    "plt.ylabel('Accuracies')\n",
    "plt.ylim(min(acc)-0.1,max(acc) + 0.1)\n",
    "plt.plot(labels, acc, marker='.', markersize = 20)"
   ]
  },
  {
   "cell_type": "code",
   "execution_count": null,
   "id": "6bcdfef0",
   "metadata": {},
   "outputs": [],
   "source": []
  }
 ],
 "metadata": {
  "kernelspec": {
   "display_name": "Python 3 (ipykernel)",
   "language": "python",
   "name": "python3"
  },
  "language_info": {
   "codemirror_mode": {
    "name": "ipython",
    "version": 3
   },
   "file_extension": ".py",
   "mimetype": "text/x-python",
   "name": "python",
   "nbconvert_exporter": "python",
   "pygments_lexer": "ipython3",
   "version": "3.9.5"
  },
  "vscode": {
   "interpreter": {
    "hash": "26de051ba29f2982a8de78e945f0abaf191376122a1563185a90213a26c5da77"
   }
  }
 },
 "nbformat": 4,
 "nbformat_minor": 5
}
