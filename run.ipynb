{
 "cells": [
  {
   "cell_type": "code",
   "execution_count": 1,
   "id": "a0306114",
   "metadata": {},
<<<<<<< HEAD
   "outputs": [],
=======
   "outputs": [
    {
     "name": "stderr",
     "output_type": "stream",
     "text": [
      "WARNING:root:No module named 'tempeh': LawSchoolGPADataset will be unavailable. To install, run:\n",
      "pip install 'aif360[LawSchoolGPA]'\n",
      "WARNING:root:No module named 'fairlearn': ExponentiatedGradientReduction will be unavailable. To install, run:\n",
      "pip install 'aif360[Reductions]'\n",
      "WARNING:root:No module named 'fairlearn': GridSearchReduction will be unavailable. To install, run:\n",
      "pip install 'aif360[Reductions]'\n",
      "WARNING:root:No module named 'fairlearn': GridSearchReduction will be unavailable. To install, run:\n",
      "pip install 'aif360[Reductions]'\n"
     ]
    }
   ],
>>>>>>> giwi
   "source": [
    "import pandas as pd\n",
    "import os\n",
    "import missingness_generation\n",
    "#from src.cleaning import datacleaning\n",
<<<<<<< HEAD
    "#from src import missingness_generation"
=======
    "#from src import missingness_generation\n",
    "import pandas as pd\n",
    "import numpy as np\n",
    "import aif360\n",
    "from aif360.algorithms.preprocessing.reweighing import Reweighing\n",
    "from aif360.algorithms.postprocessing import CalibratedEqOddsPostprocessing\n",
    "from sklearn.model_selection import train_test_split\n",
    "from aif360.sklearn.metrics import statistical_parity_difference\n",
    "from aif360.sklearn.metrics import average_odds_difference\n",
    "from aif360.sklearn.metrics import equal_opportunity_difference\n",
    "from aif360.algorithms.inprocessing.adversarial_debiasing import AdversarialDebiasing\n",
    "\n",
    "from sklearn.preprocessing import OneHotEncoder\n",
    "from sklearn.linear_model import LogisticRegression\n",
    "from sklearn.ensemble import HistGradientBoostingClassifier"
>>>>>>> giwi
   ]
  },
  {
   "cell_type": "code",
   "execution_count": 2,
   "id": "7f9be16c",
   "metadata": {},
   "outputs": [],
   "source": [
    "# cleaned = datacleaning.cleaning(os.path.join(os.path.dirname(\n",
    "#     os.path.realpath('run.py')) + '/data/test.csv')).iloc[:,1:]"
   ]
  },
  {
   "cell_type": "code",
   "execution_count": 3,
   "id": "0aad6d8d",
   "metadata": {},
<<<<<<< HEAD
   "outputs": [],
=======
   "outputs": [
    {
     "ename": "FileNotFoundError",
     "evalue": "[Errno 2] No such file or directory: '/home/gykim/MissingnessFairnessAnalysis/data/allegations.csv'",
     "output_type": "error",
     "traceback": [
      "\u001b[0;31m---------------------------------------------------------------------------\u001b[0m",
      "\u001b[0;31mFileNotFoundError\u001b[0m                         Traceback (most recent call last)",
      "\u001b[0;32m/tmp/ipykernel_110/3336957998.py\u001b[0m in \u001b[0;36m<module>\u001b[0;34m\u001b[0m\n\u001b[0;32m----> 1\u001b[0;31m data = pd.read_csv(os.path.join(os.path.dirname(\n\u001b[0m\u001b[1;32m      2\u001b[0m     os.path.realpath('run.py')) + '/data/allegations.csv')).iloc[:,1:]\n",
      "\u001b[0;32m/opt/conda/lib/python3.9/site-packages/pandas/util/_decorators.py\u001b[0m in \u001b[0;36mwrapper\u001b[0;34m(*args, **kwargs)\u001b[0m\n\u001b[1;32m    309\u001b[0m                     \u001b[0mstacklevel\u001b[0m\u001b[0;34m=\u001b[0m\u001b[0mstacklevel\u001b[0m\u001b[0;34m,\u001b[0m\u001b[0;34m\u001b[0m\u001b[0;34m\u001b[0m\u001b[0m\n\u001b[1;32m    310\u001b[0m                 )\n\u001b[0;32m--> 311\u001b[0;31m             \u001b[0;32mreturn\u001b[0m \u001b[0mfunc\u001b[0m\u001b[0;34m(\u001b[0m\u001b[0;34m*\u001b[0m\u001b[0margs\u001b[0m\u001b[0;34m,\u001b[0m \u001b[0;34m**\u001b[0m\u001b[0mkwargs\u001b[0m\u001b[0;34m)\u001b[0m\u001b[0;34m\u001b[0m\u001b[0;34m\u001b[0m\u001b[0m\n\u001b[0m\u001b[1;32m    312\u001b[0m \u001b[0;34m\u001b[0m\u001b[0m\n\u001b[1;32m    313\u001b[0m         \u001b[0;32mreturn\u001b[0m \u001b[0mwrapper\u001b[0m\u001b[0;34m\u001b[0m\u001b[0;34m\u001b[0m\u001b[0m\n",
      "\u001b[0;32m/opt/conda/lib/python3.9/site-packages/pandas/io/parsers/readers.py\u001b[0m in \u001b[0;36mread_csv\u001b[0;34m(filepath_or_buffer, sep, delimiter, header, names, index_col, usecols, squeeze, prefix, mangle_dupe_cols, dtype, engine, converters, true_values, false_values, skipinitialspace, skiprows, skipfooter, nrows, na_values, keep_default_na, na_filter, verbose, skip_blank_lines, parse_dates, infer_datetime_format, keep_date_col, date_parser, dayfirst, cache_dates, iterator, chunksize, compression, thousands, decimal, lineterminator, quotechar, quoting, doublequote, escapechar, comment, encoding, encoding_errors, dialect, error_bad_lines, warn_bad_lines, on_bad_lines, delim_whitespace, low_memory, memory_map, float_precision, storage_options)\u001b[0m\n\u001b[1;32m    676\u001b[0m     \u001b[0mkwds\u001b[0m\u001b[0;34m.\u001b[0m\u001b[0mupdate\u001b[0m\u001b[0;34m(\u001b[0m\u001b[0mkwds_defaults\u001b[0m\u001b[0;34m)\u001b[0m\u001b[0;34m\u001b[0m\u001b[0;34m\u001b[0m\u001b[0m\n\u001b[1;32m    677\u001b[0m \u001b[0;34m\u001b[0m\u001b[0m\n\u001b[0;32m--> 678\u001b[0;31m     \u001b[0;32mreturn\u001b[0m \u001b[0m_read\u001b[0m\u001b[0;34m(\u001b[0m\u001b[0mfilepath_or_buffer\u001b[0m\u001b[0;34m,\u001b[0m \u001b[0mkwds\u001b[0m\u001b[0;34m)\u001b[0m\u001b[0;34m\u001b[0m\u001b[0;34m\u001b[0m\u001b[0m\n\u001b[0m\u001b[1;32m    679\u001b[0m \u001b[0;34m\u001b[0m\u001b[0m\n\u001b[1;32m    680\u001b[0m \u001b[0;34m\u001b[0m\u001b[0m\n",
      "\u001b[0;32m/opt/conda/lib/python3.9/site-packages/pandas/io/parsers/readers.py\u001b[0m in \u001b[0;36m_read\u001b[0;34m(filepath_or_buffer, kwds)\u001b[0m\n\u001b[1;32m    573\u001b[0m \u001b[0;34m\u001b[0m\u001b[0m\n\u001b[1;32m    574\u001b[0m     \u001b[0;31m# Create the parser.\u001b[0m\u001b[0;34m\u001b[0m\u001b[0;34m\u001b[0m\u001b[0;34m\u001b[0m\u001b[0m\n\u001b[0;32m--> 575\u001b[0;31m     \u001b[0mparser\u001b[0m \u001b[0;34m=\u001b[0m \u001b[0mTextFileReader\u001b[0m\u001b[0;34m(\u001b[0m\u001b[0mfilepath_or_buffer\u001b[0m\u001b[0;34m,\u001b[0m \u001b[0;34m**\u001b[0m\u001b[0mkwds\u001b[0m\u001b[0;34m)\u001b[0m\u001b[0;34m\u001b[0m\u001b[0;34m\u001b[0m\u001b[0m\n\u001b[0m\u001b[1;32m    576\u001b[0m \u001b[0;34m\u001b[0m\u001b[0m\n\u001b[1;32m    577\u001b[0m     \u001b[0;32mif\u001b[0m \u001b[0mchunksize\u001b[0m \u001b[0;32mor\u001b[0m \u001b[0miterator\u001b[0m\u001b[0;34m:\u001b[0m\u001b[0;34m\u001b[0m\u001b[0;34m\u001b[0m\u001b[0m\n",
      "\u001b[0;32m/opt/conda/lib/python3.9/site-packages/pandas/io/parsers/readers.py\u001b[0m in \u001b[0;36m__init__\u001b[0;34m(self, f, engine, **kwds)\u001b[0m\n\u001b[1;32m    930\u001b[0m \u001b[0;34m\u001b[0m\u001b[0m\n\u001b[1;32m    931\u001b[0m         \u001b[0mself\u001b[0m\u001b[0;34m.\u001b[0m\u001b[0mhandles\u001b[0m\u001b[0;34m:\u001b[0m \u001b[0mIOHandles\u001b[0m \u001b[0;34m|\u001b[0m \u001b[0;32mNone\u001b[0m \u001b[0;34m=\u001b[0m \u001b[0;32mNone\u001b[0m\u001b[0;34m\u001b[0m\u001b[0;34m\u001b[0m\u001b[0m\n\u001b[0;32m--> 932\u001b[0;31m         \u001b[0mself\u001b[0m\u001b[0;34m.\u001b[0m\u001b[0m_engine\u001b[0m \u001b[0;34m=\u001b[0m \u001b[0mself\u001b[0m\u001b[0;34m.\u001b[0m\u001b[0m_make_engine\u001b[0m\u001b[0;34m(\u001b[0m\u001b[0mf\u001b[0m\u001b[0;34m,\u001b[0m \u001b[0mself\u001b[0m\u001b[0;34m.\u001b[0m\u001b[0mengine\u001b[0m\u001b[0;34m)\u001b[0m\u001b[0;34m\u001b[0m\u001b[0;34m\u001b[0m\u001b[0m\n\u001b[0m\u001b[1;32m    933\u001b[0m \u001b[0;34m\u001b[0m\u001b[0m\n\u001b[1;32m    934\u001b[0m     \u001b[0;32mdef\u001b[0m \u001b[0mclose\u001b[0m\u001b[0;34m(\u001b[0m\u001b[0mself\u001b[0m\u001b[0;34m)\u001b[0m\u001b[0;34m:\u001b[0m\u001b[0;34m\u001b[0m\u001b[0;34m\u001b[0m\u001b[0m\n",
      "\u001b[0;32m/opt/conda/lib/python3.9/site-packages/pandas/io/parsers/readers.py\u001b[0m in \u001b[0;36m_make_engine\u001b[0;34m(self, f, engine)\u001b[0m\n\u001b[1;32m   1214\u001b[0m             \u001b[0;31m# \"Union[str, PathLike[str], ReadCsvBuffer[bytes], ReadCsvBuffer[str]]\"\u001b[0m\u001b[0;34m\u001b[0m\u001b[0;34m\u001b[0m\u001b[0;34m\u001b[0m\u001b[0m\n\u001b[1;32m   1215\u001b[0m             \u001b[0;31m# , \"str\", \"bool\", \"Any\", \"Any\", \"Any\", \"Any\", \"Any\"\u001b[0m\u001b[0;34m\u001b[0m\u001b[0;34m\u001b[0m\u001b[0;34m\u001b[0m\u001b[0m\n\u001b[0;32m-> 1216\u001b[0;31m             self.handles = get_handle(  # type: ignore[call-overload]\n\u001b[0m\u001b[1;32m   1217\u001b[0m                 \u001b[0mf\u001b[0m\u001b[0;34m,\u001b[0m\u001b[0;34m\u001b[0m\u001b[0;34m\u001b[0m\u001b[0m\n\u001b[1;32m   1218\u001b[0m                 \u001b[0mmode\u001b[0m\u001b[0;34m,\u001b[0m\u001b[0;34m\u001b[0m\u001b[0;34m\u001b[0m\u001b[0m\n",
      "\u001b[0;32m/opt/conda/lib/python3.9/site-packages/pandas/io/common.py\u001b[0m in \u001b[0;36mget_handle\u001b[0;34m(path_or_buf, mode, encoding, compression, memory_map, is_text, errors, storage_options)\u001b[0m\n\u001b[1;32m    784\u001b[0m         \u001b[0;32mif\u001b[0m \u001b[0mioargs\u001b[0m\u001b[0;34m.\u001b[0m\u001b[0mencoding\u001b[0m \u001b[0;32mand\u001b[0m \u001b[0;34m\"b\"\u001b[0m \u001b[0;32mnot\u001b[0m \u001b[0;32min\u001b[0m \u001b[0mioargs\u001b[0m\u001b[0;34m.\u001b[0m\u001b[0mmode\u001b[0m\u001b[0;34m:\u001b[0m\u001b[0;34m\u001b[0m\u001b[0;34m\u001b[0m\u001b[0m\n\u001b[1;32m    785\u001b[0m             \u001b[0;31m# Encoding\u001b[0m\u001b[0;34m\u001b[0m\u001b[0;34m\u001b[0m\u001b[0;34m\u001b[0m\u001b[0m\n\u001b[0;32m--> 786\u001b[0;31m             handle = open(\n\u001b[0m\u001b[1;32m    787\u001b[0m                 \u001b[0mhandle\u001b[0m\u001b[0;34m,\u001b[0m\u001b[0;34m\u001b[0m\u001b[0;34m\u001b[0m\u001b[0m\n\u001b[1;32m    788\u001b[0m                 \u001b[0mioargs\u001b[0m\u001b[0;34m.\u001b[0m\u001b[0mmode\u001b[0m\u001b[0;34m,\u001b[0m\u001b[0;34m\u001b[0m\u001b[0;34m\u001b[0m\u001b[0m\n",
      "\u001b[0;31mFileNotFoundError\u001b[0m: [Errno 2] No such file or directory: '/home/gykim/MissingnessFairnessAnalysis/data/allegations.csv'"
     ]
    }
   ],
>>>>>>> giwi
   "source": [
    "data = pd.read_csv(os.path.join(os.path.dirname(\n",
    "    os.path.realpath('run.py')) + '/data/allegations.csv')).iloc[:,1:]"
   ]
  },
  {
   "cell_type": "code",
<<<<<<< HEAD
   "execution_count": 4,
=======
   "execution_count": null,
   "id": "ed02ea7e",
   "metadata": {},
   "outputs": [],
   "source": []
  },
  {
   "cell_type": "code",
   "execution_count": 6,
   "id": "395b33d9",
   "metadata": {},
   "outputs": [],
   "source": [
    "#data = pd.read_csv('allegations.csv')"
   ]
  },
  {
   "cell_type": "code",
   "execution_count": 7,
>>>>>>> giwi
   "id": "b23088bf",
   "metadata": {},
   "outputs": [],
   "source": [
    "data = data[['complaint_id', 'complainant_ethnicity', 'complainant_gender', 'complainant_age_incident',\n",
    "       'allegation', 'contact_reason', 'Substantiated']]"
   ]
  },
  {
   "cell_type": "code",
<<<<<<< HEAD
   "execution_count": 5,
=======
   "execution_count": 8,
>>>>>>> giwi
   "id": "1eaff1c2",
   "metadata": {},
   "outputs": [],
   "source": [
    "data = data.rename(columns = {'Substantiated': 'substantiated'})"
   ]
  },
  {
   "cell_type": "code",
<<<<<<< HEAD
   "execution_count": 6,
=======
   "execution_count": 9,
>>>>>>> giwi
   "id": "add91a9b",
   "metadata": {},
   "outputs": [
    {
     "data": {
      "text/plain": [
       "complaint_id                   0\n",
       "complainant_ethnicity       5505\n",
       "complainant_gender          4195\n",
       "complainant_age_incident    4829\n",
       "allegation                     1\n",
       "contact_reason               199\n",
       "substantiated                  0\n",
       "dtype: int64"
      ]
     },
<<<<<<< HEAD
     "execution_count": 6,
=======
     "execution_count": 9,
>>>>>>> giwi
     "metadata": {},
     "output_type": "execute_result"
    }
   ],
   "source": [
    "data.isna().sum()"
   ]
  },
  {
   "cell_type": "code",
<<<<<<< HEAD
   "execution_count": 7,
=======
   "execution_count": 10,
>>>>>>> giwi
   "id": "069dbf3f",
   "metadata": {},
   "outputs": [
    {
     "data": {
      "text/html": [
       "<div>\n",
       "<style scoped>\n",
       "    .dataframe tbody tr th:only-of-type {\n",
       "        vertical-align: middle;\n",
       "    }\n",
       "\n",
       "    .dataframe tbody tr th {\n",
       "        vertical-align: top;\n",
       "    }\n",
       "\n",
       "    .dataframe thead th {\n",
       "        text-align: right;\n",
       "    }\n",
       "</style>\n",
       "<table border=\"1\" class=\"dataframe\">\n",
       "  <thead>\n",
       "    <tr style=\"text-align: right;\">\n",
       "      <th></th>\n",
       "      <th>complaint_id</th>\n",
       "      <th>complainant_ethnicity</th>\n",
       "      <th>complainant_gender</th>\n",
       "      <th>complainant_age_incident</th>\n",
       "      <th>allegation</th>\n",
       "      <th>contact_reason</th>\n",
       "      <th>substantiated</th>\n",
       "    </tr>\n",
       "  </thead>\n",
       "  <tbody>\n",
       "    <tr>\n",
       "      <th>0</th>\n",
       "      <td>42835</td>\n",
       "      <td>Black</td>\n",
       "      <td>Female</td>\n",
       "      <td>38.0</td>\n",
       "      <td>Failure to provide RTKA card</td>\n",
       "      <td>Report-domestic dispute</td>\n",
       "      <td>True</td>\n",
       "    </tr>\n",
       "    <tr>\n",
       "      <th>1</th>\n",
       "      <td>24601</td>\n",
       "      <td>Black</td>\n",
       "      <td>Male</td>\n",
       "      <td>26.0</td>\n",
       "      <td>Action</td>\n",
       "      <td>Moving violation</td>\n",
       "      <td>True</td>\n",
       "    </tr>\n",
       "    <tr>\n",
       "      <th>2</th>\n",
       "      <td>24601</td>\n",
       "      <td>Black</td>\n",
       "      <td>Male</td>\n",
       "      <td>26.0</td>\n",
       "      <td>Race</td>\n",
       "      <td>Moving violation</td>\n",
       "      <td>True</td>\n",
       "    </tr>\n",
       "    <tr>\n",
       "      <th>3</th>\n",
       "      <td>26146</td>\n",
       "      <td>Black</td>\n",
       "      <td>Male</td>\n",
       "      <td>45.0</td>\n",
       "      <td>Question</td>\n",
       "      <td>PD suspected C/V of violation/crime - street</td>\n",
       "      <td>True</td>\n",
       "    </tr>\n",
       "    <tr>\n",
       "      <th>4</th>\n",
       "      <td>40253</td>\n",
       "      <td>NaN</td>\n",
       "      <td>NaN</td>\n",
       "      <td>16.0</td>\n",
       "      <td>Physical force</td>\n",
       "      <td>Report-dispute</td>\n",
       "      <td>True</td>\n",
       "    </tr>\n",
       "  </tbody>\n",
       "</table>\n",
       "</div>"
      ],
      "text/plain": [
       "   complaint_id complainant_ethnicity complainant_gender  \\\n",
       "0         42835                 Black             Female   \n",
       "1         24601                 Black               Male   \n",
       "2         24601                 Black               Male   \n",
       "3         26146                 Black               Male   \n",
       "4         40253                   NaN                NaN   \n",
       "\n",
       "   complainant_age_incident                    allegation  \\\n",
       "0                      38.0  Failure to provide RTKA card   \n",
       "1                      26.0                        Action   \n",
       "2                      26.0                          Race   \n",
       "3                      45.0                      Question   \n",
       "4                      16.0                Physical force   \n",
       "\n",
       "                                 contact_reason  substantiated  \n",
       "0                       Report-domestic dispute           True  \n",
       "1                              Moving violation           True  \n",
       "2                              Moving violation           True  \n",
       "3  PD suspected C/V of violation/crime - street           True  \n",
       "4                                Report-dispute           True  "
      ]
     },
<<<<<<< HEAD
     "execution_count": 7,
=======
     "execution_count": 10,
>>>>>>> giwi
     "metadata": {},
     "output_type": "execute_result"
    }
   ],
   "source": [
    "data.head()"
   ]
  },
  {
   "cell_type": "markdown",
   "id": "11b9a145",
   "metadata": {},
   "source": [
    "We want the attribute with missingness to have around the same proportion of missingness for each type. This is because we don't want the amount of missingness to be a confounding factor in our results."
   ]
  },
  {
   "cell_type": "code",
<<<<<<< HEAD
   "execution_count": 8,
=======
   "execution_count": 11,
>>>>>>> giwi
   "id": "0c9003b0",
   "metadata": {},
   "outputs": [
    {
     "name": "stderr",
     "output_type": "stream",
     "text": [
<<<<<<< HEAD
      "/Users/alecpanattoni/Documents/MissingnessFairnessAnalysis/missingness_generation.py:29: SettingWithCopyWarning: \n",
=======
      "/home/gykim/MissingnessFairnessAnalysis/missingness_generation.py:29: SettingWithCopyWarning: \n",
>>>>>>> giwi
      "A value is trying to be set on a copy of a slice from a DataFrame\n",
      "\n",
      "See the caveats in the documentation: https://pandas.pydata.org/pandas-docs/stable/user_guide/indexing.html#returning-a-view-versus-a-copy\n",
      "  dataset[column].iloc[i] = np.nan\n"
     ]
    }
   ],
   "source": [
    "mcar = data.copy()\n",
    "mcar = missingness_generation.mcar(mcar, 'substantiated')"
   ]
  },
  {
   "cell_type": "code",
<<<<<<< HEAD
   "execution_count": 9,
=======
   "execution_count": 12,
>>>>>>> giwi
   "id": "0e9551b5",
   "metadata": {},
   "outputs": [
    {
     "data": {
      "text/plain": [
<<<<<<< HEAD
       "0.19725403201630792"
      ]
     },
     "execution_count": 9,
=======
       "0.20112117033395288"
      ]
     },
     "execution_count": 12,
>>>>>>> giwi
     "metadata": {},
     "output_type": "execute_result"
    }
   ],
   "source": [
    "mcar['substantiated'].isna().sum() / mcar.shape[0]"
   ]
  },
  {
   "cell_type": "code",
<<<<<<< HEAD
   "execution_count": 29,
=======
   "execution_count": 13,
>>>>>>> giwi
   "id": "d9665fbf",
   "metadata": {},
   "outputs": [],
   "source": [
    "mcar = mcar.dropna(subset = 'substantiated')"
   ]
  },
  {
   "cell_type": "code",
<<<<<<< HEAD
   "execution_count": 23,
   "id": "d37671df",
   "metadata": {},
   "outputs": [],
=======
   "execution_count": 14,
   "id": "d37671df",
   "metadata": {},
   "outputs": [
    {
     "name": "stderr",
     "output_type": "stream",
     "text": [
      "/home/gykim/MissingnessFairnessAnalysis/missingness_generation.py:66: SettingWithCopyWarning: \n",
      "A value is trying to be set on a copy of a slice from a DataFrame\n",
      "\n",
      "See the caveats in the documentation: https://pandas.pydata.org/pandas-docs/stable/user_guide/indexing.html#returning-a-view-versus-a-copy\n",
      "  dataset[miss_column].iloc[i] = np.nan\n"
     ]
    }
   ],
>>>>>>> giwi
   "source": [
    "mar = data.copy()\n",
    "mar = missingness_generation.mar(mar, 'substantiated', 'complainant_ethnicity', 0.3)"
   ]
  },
  {
   "cell_type": "code",
<<<<<<< HEAD
   "execution_count": 24,
=======
   "execution_count": 15,
>>>>>>> giwi
   "id": "78d7a05c",
   "metadata": {},
   "outputs": [
    {
     "data": {
      "text/plain": [
<<<<<<< HEAD
       "0.18049643263984652"
      ]
     },
     "execution_count": 24,
=======
       "0.17492055878649798"
      ]
     },
     "execution_count": 15,
>>>>>>> giwi
     "metadata": {},
     "output_type": "execute_result"
    }
   ],
   "source": [
    "mar['substantiated'].isna().sum() / mar.shape[0]"
   ]
  },
  {
   "cell_type": "code",
<<<<<<< HEAD
   "execution_count": 30,
=======
   "execution_count": 16,
>>>>>>> giwi
   "id": "550eec64",
   "metadata": {},
   "outputs": [],
   "source": [
    "mar = mar.dropna(subset = 'substantiated')"
   ]
  },
  {
   "cell_type": "code",
<<<<<<< HEAD
   "execution_count": 21,
   "id": "e0c7eac2",
   "metadata": {},
   "outputs": [],
=======
   "execution_count": 17,
   "id": "e0c7eac2",
   "metadata": {},
   "outputs": [
    {
     "name": "stderr",
     "output_type": "stream",
     "text": [
      "/home/gykim/MissingnessFairnessAnalysis/missingness_generation.py:112: SettingWithCopyWarning: \n",
      "A value is trying to be set on a copy of a slice from a DataFrame\n",
      "\n",
      "See the caveats in the documentation: https://pandas.pydata.org/pandas-docs/stable/user_guide/indexing.html#returning-a-view-versus-a-copy\n",
      "  dataset[column].iloc[i] = np.nan\n"
     ]
    }
   ],
>>>>>>> giwi
   "source": [
    "nmar = data.copy()\n",
    "nmar = missingness_generation.nmar(nmar, 'substantiated', 0.3)"
   ]
  },
  {
   "cell_type": "code",
<<<<<<< HEAD
   "execution_count": 22,
=======
   "execution_count": 18,
>>>>>>> giwi
   "id": "91e6f66b",
   "metadata": {},
   "outputs": [
    {
     "data": {
      "text/plain": [
<<<<<<< HEAD
       "0.2046285748546076"
      ]
     },
     "execution_count": 22,
=======
       "0.14335391810060555"
      ]
     },
     "execution_count": 18,
>>>>>>> giwi
     "metadata": {},
     "output_type": "execute_result"
    }
   ],
   "source": [
    "nmar['substantiated'].isna().sum() / nmar.shape[0]"
   ]
  },
  {
   "cell_type": "code",
<<<<<<< HEAD
   "execution_count": 31,
=======
   "execution_count": 19,
>>>>>>> giwi
   "id": "8e30cfe9",
   "metadata": {},
   "outputs": [],
   "source": [
    "nmar = nmar.dropna(subset = 'substantiated')"
   ]
  },
  {
   "cell_type": "markdown",
   "id": "d5c14eb6",
   "metadata": {},
   "source": [
    "Now we will \"handle\" the missingness by dropping missing values."
   ]
  },
  {
<<<<<<< HEAD
   "cell_type": "code",
   "execution_count": null,
   "id": "09d614b4",
=======
   "cell_type": "markdown",
   "id": "9f3aa438",
   "metadata": {},
   "source": [
    "## Applying Fairness Notions\n"
   ]
  },
  {
   "cell_type": "markdown",
   "id": "4319bf06",
   "metadata": {},
   "source": [
    "Fairness Notion with No Missing Values"
   ]
  },
  {
   "cell_type": "code",
   "execution_count": 20,
   "id": "f89709f1",
   "metadata": {},
   "outputs": [],
   "source": [
    "accuracies = []"
   ]
  },
  {
   "cell_type": "code",
   "execution_count": 21,
   "id": "cec495cc",
   "metadata": {},
   "outputs": [],
   "source": [
    "nypd = data.dropna()"
   ]
  },
  {
   "cell_type": "code",
   "execution_count": 22,
   "id": "3dacd466",
   "metadata": {},
   "outputs": [
    {
     "name": "stderr",
     "output_type": "stream",
     "text": [
      "/tmp/ipykernel_110/1225942194.py:1: SettingWithCopyWarning: \n",
      "A value is trying to be set on a copy of a slice from a DataFrame.\n",
      "Try using .loc[row_indexer,col_indexer] = value instead\n",
      "\n",
      "See the caveats in the documentation: https://pandas.pydata.org/pandas-docs/stable/user_guide/indexing.html#returning-a-view-versus-a-copy\n",
      "  nypd['complainant_age_incident'] = nypd['complainant_age_incident'].astype(str)\n"
     ]
    }
   ],
   "source": [
    "nypd['complainant_age_incident'] = nypd['complainant_age_incident'].astype(str)"
   ]
  },
  {
   "cell_type": "code",
   "execution_count": 23,
   "id": "d6ff9dcb",
   "metadata": {},
   "outputs": [
    {
     "data": {
      "text/plain": [
       "complaint_id                 int64\n",
       "complainant_ethnicity       object\n",
       "complainant_gender          object\n",
       "complainant_age_incident    object\n",
       "allegation                  object\n",
       "contact_reason              object\n",
       "substantiated                 bool\n",
       "dtype: object"
      ]
     },
     "execution_count": 23,
     "metadata": {},
     "output_type": "execute_result"
    }
   ],
   "source": [
    "nypd.dtypes"
   ]
  },
  {
   "cell_type": "code",
   "execution_count": 26,
   "id": "2c86ae89",
   "metadata": {},
   "outputs": [],
   "source": [
    "train, test = train_test_split(nypd, test_size=0.2)"
   ]
  },
  {
   "cell_type": "code",
   "execution_count": 27,
   "id": "776e6a21",
   "metadata": {},
   "outputs": [],
   "source": [
    "cat = [\"complainant_ethnicity\", \"complainant_gender\", \"complainant_age_incident\", \"allegation\", \"contact_reason\"]"
   ]
  },
  {
   "cell_type": "code",
   "execution_count": 68,
   "id": "ac9d7d3d",
   "metadata": {},
   "outputs": [],
   "source": [
    "def model(train, test, cats):\n",
    "    ohe = OneHotEncoder(handle_unknown='ignore')\n",
    "    \n",
    "    traincat_df = train[cats]\n",
    "    # OHE train categorical\n",
    "    train_ohe = ohe.fit_transform(traincat_df)\n",
    "    # concat non-cat train features\n",
    "    train_len = train.shape[0]\n",
    "\n",
    "    train_num_feats = np.concatenate(\n",
    "        [np.reshape(train.complainant_age_incident.values, (train_len, 1))\n",
    "        ], axis = 1\n",
    "    )\n",
    "    \n",
    "    # concatenate train OHE features with non-cat features\n",
    "    train_feats = pd.DataFrame(np.concatenate([train_ohe.todense(), train_num_feats], axis = 1))\n",
    "    train_feats['complainant_ethnicity'] = (train['complainant_ethnicity'] == \"White\").tolist()\n",
    "    train_feats['complainant_gender'] = (train['complainant_gender'] == \"Male\").tolist()\n",
    "    y_train = train.substantiated.values.astype('int')\n",
    "    \n",
    "    mod = LogisticRegression(C = 1.0, class_weight='balanced')\n",
    "    mod.fit(train_feats, y_train)\n",
    "    \n",
    "    testcat_df = test[cats]\n",
    "    # OHE train categorical\n",
    "    test_ohe = ohe.transform(testcat_df)\n",
    "    # concat non-cat train features\n",
    "    test_len = test.shape[0]\n",
    "\n",
    "    test_num_feats = np.concatenate(\n",
    "        [np.reshape(test.complainant_age_incident.values, (test_len, 1)),\n",
    "        ], axis = 1\n",
    "    )\n",
    "        \n",
    "    # concatenate test OHE features with non-cat features\n",
    "    test_feats = pd.DataFrame(np.concatenate([test_ohe.todense(), test_num_feats], axis = 1))\n",
    "    test_feats['complainant_ethnicity'] = (test['complainant_ethnicity'] == \"White\").tolist()\n",
    "    test_feats['complainant_gender'] = (test['complainant_gender'] == \"Male\").tolist()\n",
    "    y_test = test.substantiated.values.astype('int')\n",
    "    \n",
    "    pred = mod.predict(test_feats)\n",
    "    \n",
    "    parity = statistical_parity_difference(pd.Series(y_test), pd.Series(pred))\n",
    "    odds = average_odds_difference(pd.Series(y_test), pd.Series(pred))\n",
    "    opportunity = equal_opportunity_difference(pd.Series(y_test), pd.Series(pred))\n",
    "    \n",
    "    \n",
    "    print(\"statistical parity: \" + str(parity))\n",
    "    print(\"Equality of odds: \" + str(odds))\n",
    "    print(\"Equality of opportunity: \" + str(opportunity))\n",
    "    \n",
    "    \n",
    "    return [parity,odds,opportunity]"
   ]
  },
  {
   "cell_type": "code",
   "execution_count": 69,
   "id": "3d659cf9",
   "metadata": {},
   "outputs": [],
   "source": [
    "def model_missing(train, test, cats):\n",
    "    ohe = OneHotEncoder(handle_unknown='ignore')\n",
    "    \n",
    "    traincat_df = train[cats]\n",
    "    # OHE train categorical\n",
    "    train_ohe = ohe.fit_transform(traincat_df)\n",
    "    # concat non-cat train features\n",
    "    train_len = train.shape[0]\n",
    "\n",
    "    train_num_feats = np.concatenate(\n",
    "        [np.reshape(train.complainant_age_incident.values, (train_len, 1))\n",
    "        ], axis = 1\n",
    "    )\n",
    "    \n",
    "    # concatenate train OHE features with non-cat features\n",
    "    train_feats = pd.DataFrame(np.concatenate([train_ohe.todense(), train_num_feats], axis = 1))\n",
    "    train_feats['complainant_ethnicity'] = (train['complainant_ethnicity'] == \"White\").tolist()\n",
    "    train_feats['complainant_gender'] = (train['complainant_gender'] == \"Male\").tolist()\n",
    "    y_train = train.substantiated.values.astype('int')\n",
    "    \n",
    "    mod = HistGradientBoostingClassifier()\n",
    "    mod.fit(train_feats, y_train)\n",
    "    \n",
    "    testcat_df = test[cats]\n",
    "    # OHE train categorical\n",
    "    test_ohe = ohe.transform(testcat_df)\n",
    "    # concat non-cat train features\n",
    "    test_len = test.shape[0]\n",
    "\n",
    "    test_num_feats = np.concatenate(\n",
    "        [np.reshape(test.complainant_age_incident.values, (test_len, 1)),\n",
    "        ], axis = 1\n",
    "    )\n",
    "        \n",
    "    # concatenate test OHE features with non-cat features\n",
    "    test_feats = pd.DataFrame(np.concatenate([test_ohe.todense(), test_num_feats], axis = 1))\n",
    "    test_feats['complainant_ethnicity'] = (test['complainant_ethnicity'] == \"White\").tolist()\n",
    "    test_feats['complainant_gender'] = (test['complainant_gender'] == \"Male\").tolist()\n",
    "    y_test = test.substantiated.values.astype('int')\n",
    "    \n",
    "    pred = mod.predict(test_feats)\n",
    "    \n",
    "    parity = statistical_parity_difference(pd.Series(y_test), pd.Series(pred))\n",
    "    odds = average_odds_difference(pd.Series(y_test), pd.Series(pred))\n",
    "    opportunity = equal_opportunity_difference(pd.Series(y_test), pd.Series(pred))\n",
    "    \n",
    "    \n",
    "    print(\"statistical parity: \" + str(parity))\n",
    "    print(\"Equality of odds: \" + str(odds))\n",
    "    print(\"Equality of opportunity: \" + str(opportunity))\n",
    "    \n",
    "    \n",
    "    return [parity,odds,opportunity]"
   ]
  },
  {
   "cell_type": "markdown",
   "id": "3e0ad122",
   "metadata": {},
   "source": [
    "### Fairness notions for No Missingness At All"
   ]
  },
  {
   "cell_type": "code",
   "execution_count": 70,
   "id": "c7be59a1",
   "metadata": {},
   "outputs": [
    {
     "name": "stderr",
     "output_type": "stream",
     "text": [
      "/home/gykim/.local/lib/python3.9/site-packages/sklearn/utils/validation.py:1858: FutureWarning: Feature names only support names that are all strings. Got feature names with dtypes: ['int', 'str']. An error will be raised in 1.2.\n",
      "  warnings.warn(\n",
      "/home/gykim/.local/lib/python3.9/site-packages/sklearn/linear_model/_logistic.py:444: ConvergenceWarning: lbfgs failed to converge (status=1):\n",
      "STOP: TOTAL NO. of ITERATIONS REACHED LIMIT.\n",
      "\n",
      "Increase the number of iterations (max_iter) or scale the data as shown in:\n",
      "    https://scikit-learn.org/stable/modules/preprocessing.html\n",
      "Please also refer to the documentation for alternative solver options:\n",
      "    https://scikit-learn.org/stable/modules/linear_model.html#logistic-regression\n",
      "  n_iter_i = _check_optimize_result(\n",
      "/home/gykim/.local/lib/python3.9/site-packages/sklearn/utils/validation.py:1858: FutureWarning: Feature names only support names that are all strings. Got feature names with dtypes: ['int', 'str']. An error will be raised in 1.2.\n",
      "  warnings.warn(\n"
     ]
    },
    {
     "name": "stdout",
     "output_type": "stream",
     "text": [
      "statistical parity: -0.5851161089778754\n",
      "Equality of odds: -0.5111093821084971\n",
      "Equality of opportunity: -0.3652561247216035\n"
     ]
    },
    {
     "name": "stderr",
     "output_type": "stream",
     "text": [
      "/home/gykim/.local/lib/python3.9/site-packages/sklearn/metrics/_classification.py:1334: UndefinedMetricWarning: Specificity is ill-defined and being set to 0.0 due to no negative samples. Use `zero_division` parameter to control this behavior.\n",
      "  _warn_prf(average, modifier, msg_start, len(result))\n"
     ]
    }
   ],
   "source": [
    "no_missing_fairness = []\n",
    "no_missing = model(train, test, cat)\n",
    "no_missing_fairness.append(no_missing)"
   ]
  },
  {
   "cell_type": "markdown",
   "id": "9550470b",
   "metadata": {},
   "source": [
    "### Fairness notions for NMAR"
   ]
  },
  {
   "cell_type": "code",
   "execution_count": 71,
   "id": "acdca1aa",
   "metadata": {},
   "outputs": [],
   "source": [
    "train_nmar, test_nmar = train_test_split(nmar, test_size=0.2)"
   ]
  },
  {
   "cell_type": "code",
   "execution_count": 72,
   "id": "a5a99e21",
   "metadata": {},
   "outputs": [
    {
     "name": "stderr",
     "output_type": "stream",
     "text": [
      "/home/gykim/.local/lib/python3.9/site-packages/sklearn/utils/validation.py:1858: FutureWarning: Feature names only support names that are all strings. Got feature names with dtypes: ['int', 'str']. An error will be raised in 1.2.\n",
      "  warnings.warn(\n"
     ]
    },
    {
     "name": "stdout",
     "output_type": "stream",
     "text": [
      "statistical parity: 0.048818897637795275\n",
      "Equality of odds: -0.42564215547560336\n",
      "Equality of opportunity: 0.12620689655172415\n"
     ]
    },
    {
     "name": "stderr",
     "output_type": "stream",
     "text": [
      "/home/gykim/.local/lib/python3.9/site-packages/sklearn/utils/validation.py:1858: FutureWarning: Feature names only support names that are all strings. Got feature names with dtypes: ['int', 'str']. An error will be raised in 1.2.\n",
      "  warnings.warn(\n",
      "/home/gykim/.local/lib/python3.9/site-packages/sklearn/metrics/_classification.py:1334: UndefinedMetricWarning: Specificity is ill-defined and being set to 0.0 due to no negative samples. Use `zero_division` parameter to control this behavior.\n",
      "  _warn_prf(average, modifier, msg_start, len(result))\n"
     ]
    }
   ],
   "source": [
    "nmar_fairness = []\n",
    "nmar_model = model_missing(train_nmar, test_nmar, cat)\n",
    "nmar_fairness.append(nmar_model)"
   ]
  },
  {
   "cell_type": "markdown",
   "id": "84ee07ea",
   "metadata": {},
   "source": [
    "### Fairness notions for MCAR"
   ]
  },
  {
   "cell_type": "code",
   "execution_count": 73,
   "id": "0a03e854",
   "metadata": {},
   "outputs": [],
   "source": [
    "train_mcar, test_mcar = train_test_split(mcar, test_size=0.2)\n"
   ]
  },
  {
   "cell_type": "code",
   "execution_count": 74,
   "id": "dfffff0e",
   "metadata": {},
   "outputs": [
    {
     "name": "stderr",
     "output_type": "stream",
     "text": [
      "/home/gykim/.local/lib/python3.9/site-packages/sklearn/utils/validation.py:1858: FutureWarning: Feature names only support names that are all strings. Got feature names with dtypes: ['int', 'str']. An error will be raised in 1.2.\n",
      "  warnings.warn(\n"
     ]
    },
    {
     "name": "stdout",
     "output_type": "stream",
     "text": [
      "statistical parity: 0.04672546443985738\n",
      "Equality of odds: 0.0705796017036952\n",
      "Equality of opportunity: 0.11522965350523771\n"
     ]
    },
    {
     "name": "stderr",
     "output_type": "stream",
     "text": [
      "/home/gykim/.local/lib/python3.9/site-packages/sklearn/utils/validation.py:1858: FutureWarning: Feature names only support names that are all strings. Got feature names with dtypes: ['int', 'str']. An error will be raised in 1.2.\n",
      "  warnings.warn(\n",
      "/home/gykim/.local/lib/python3.9/site-packages/sklearn/metrics/_classification.py:1334: UndefinedMetricWarning: Recall is ill-defined and being set to 0.0 due to no true samples. Use `zero_division` parameter to control this behavior.\n",
      "  _warn_prf(average, modifier, msg_start, len(result))\n",
      "/home/gykim/.local/lib/python3.9/site-packages/sklearn/metrics/_classification.py:1334: UndefinedMetricWarning: Recall is ill-defined and being set to 0.0 due to no true samples. Use `zero_division` parameter to control this behavior.\n",
      "  _warn_prf(average, modifier, msg_start, len(result))\n"
     ]
    }
   ],
   "source": [
    "mcar_fairness = []\n",
    "mcar_model = model_missing(train_mcar, test_mcar, cat)\n",
    "mcar_fairness.append(mcar_model)"
   ]
  },
  {
   "cell_type": "markdown",
   "id": "b0017cc2",
   "metadata": {},
   "source": [
    "### Fairness notions for MAR"
   ]
  },
  {
   "cell_type": "code",
   "execution_count": 75,
   "id": "2ae2b7fc",
   "metadata": {},
   "outputs": [],
   "source": [
    "train_mar, test_mar = train_test_split(mar, test_size=0.2)\n"
   ]
  },
  {
   "cell_type": "code",
   "execution_count": 76,
   "id": "baeebfde",
   "metadata": {},
   "outputs": [
    {
     "name": "stderr",
     "output_type": "stream",
     "text": [
      "/home/gykim/.local/lib/python3.9/site-packages/sklearn/utils/validation.py:1858: FutureWarning: Feature names only support names that are all strings. Got feature names with dtypes: ['int', 'str']. An error will be raised in 1.2.\n",
      "  warnings.warn(\n"
     ]
    },
    {
     "name": "stdout",
     "output_type": "stream",
     "text": [
      "statistical parity: 0.04778343023255814\n",
      "Equality of odds: 0.07457598380491916\n",
      "Equality of opportunity: 0.1276595744680851\n"
     ]
    },
    {
     "name": "stderr",
     "output_type": "stream",
     "text": [
      "/home/gykim/.local/lib/python3.9/site-packages/sklearn/utils/validation.py:1858: FutureWarning: Feature names only support names that are all strings. Got feature names with dtypes: ['int', 'str']. An error will be raised in 1.2.\n",
      "  warnings.warn(\n",
      "/home/gykim/.local/lib/python3.9/site-packages/sklearn/metrics/_classification.py:1334: UndefinedMetricWarning: Recall is ill-defined and being set to 0.0 due to no true samples. Use `zero_division` parameter to control this behavior.\n",
      "  _warn_prf(average, modifier, msg_start, len(result))\n",
      "/home/gykim/.local/lib/python3.9/site-packages/sklearn/metrics/_classification.py:1334: UndefinedMetricWarning: Recall is ill-defined and being set to 0.0 due to no true samples. Use `zero_division` parameter to control this behavior.\n",
      "  _warn_prf(average, modifier, msg_start, len(result))\n"
     ]
    }
   ],
   "source": [
    "mar_fairness = []\n",
    "mar_model = model_missing(train_mar, test_mar, cat)\n",
    "mar_fairness.append(mar_model)"
   ]
  },
  {
   "cell_type": "code",
   "execution_count": 82,
   "id": "83c94992",
   "metadata": {},
   "outputs": [],
   "source": [
    "par= [no_missing_fairness[0][0],nmar_fairness[0][0],mcar_fairness[0][0],mar_fairness[0][0]]\n",
    "odds= [no_missing_fairness[0][1],nmar_fairness[0][1],mcar_fairness[0][1],mar_fairness[0][1]]\n",
    "opp = [no_missing_fairness[0][2],nmar_fairness[0][2],mcar_fairness[0][2],mar_fairness[0][2]]"
   ]
  },
  {
   "cell_type": "code",
   "execution_count": 83,
   "id": "fb0c6a7f",
   "metadata": {},
   "outputs": [
    {
     "data": {
      "text/plain": [
       "[-0.5851161089778754,\n",
       " 0.048818897637795275,\n",
       " 0.04672546443985738,\n",
       " 0.04778343023255814]"
      ]
     },
     "execution_count": 83,
     "metadata": {},
     "output_type": "execute_result"
    }
   ],
   "source": []
  },
  {
   "cell_type": "code",
   "execution_count": 105,
   "id": "51be1a65",
   "metadata": {},
   "outputs": [
    {
     "data": {
      "text/plain": [
       "[-0.5111093821084971,\n",
       " -0.42564215547560336,\n",
       " 0.0705796017036952,\n",
       " 0.07457598380491916]"
      ]
     },
     "execution_count": 105,
     "metadata": {},
     "output_type": "execute_result"
    }
   ],
   "source": [
    "odds"
   ]
  },
  {
   "cell_type": "markdown",
   "id": "4782fd68",
   "metadata": {},
   "source": [
    "## Visualizing Our Results"
   ]
  },
  {
   "cell_type": "code",
   "execution_count": 59,
   "id": "f1985f14",
   "metadata": {},
   "outputs": [],
   "source": [
    "import matplotlib.pyplot as plt"
   ]
  },
  {
   "cell_type": "code",
   "execution_count": 86,
   "id": "f030e3a6",
   "metadata": {},
   "outputs": [],
   "source": [
    "labels = ['No Missingess,', 'NMAR', 'MCAR', 'MAR']"
   ]
  },
  {
   "cell_type": "code",
   "execution_count": 128,
   "id": "a714f6ab",
   "metadata": {},
   "outputs": [
    {
     "data": {
      "text/plain": [
       "[<matplotlib.lines.Line2D at 0x7f8426cfd700>]"
      ]
     },
     "execution_count": 128,
     "metadata": {},
     "output_type": "execute_result"
    },
    {
     "data": {
      "image/png": "iVBORw0KGgoAAAANSUhEUgAABJcAAAJcCAYAAABE9kWlAAAAOXRFWHRTb2Z0d2FyZQBNYXRwbG90bGliIHZlcnNpb24zLjQuMiwgaHR0cHM6Ly9tYXRwbG90bGliLm9yZy8rg+JYAAAACXBIWXMAAAsTAAALEwEAmpwYAABfEklEQVR4nO3ddZic5dnG4eteibu7uxFCgjvBLRAqFChSoHzUoEKC0wIlUNoCLZRCC8VpiUBwl+AkyMbd3V1W7u+PfRc2m5XJZmefkd95HDl25tVrdpdh55rnecfcXQAAAAAAAEBlZIQOAAAAAAAAgORFuQQAAAAAAIBKo1wCAAAAAABApVEuAQAAAAAAoNIolwAAAAAAAFBplEsAAAAAAACoNMolAACAiJmdZ2ZvVHLfqWZ29D6e/xYze3JfjhHjeTqY2RYzyyxnmy1m1iXeWQAAQPKjXAIAAEnDzA43s4/NbKOZrTOzj8xsSLTuIjP7cC+O1cnM3Myyipa5+1PufkIM+/7HzG4rvszd+7r7e3vxcPaKmR1tZgVR6bPZzGaa2cWVOZa7L3L3eu6eHx37PTO7tMQ29dx9XlVkBwAAqS2r4k0AAADCM7MGkl6S9H+S/iephqQjJO0MmauaLXP3dmZmks6UNNrMPnP3abEewMyy3D0vfhEBAEC6YeQSAABIFj0kyd2fcfd8d9/u7m+4e46Z9Zb0oKRDopE9GyTJzE41s6/MbJOZLTazW4od74Po64Zon0OKj36yQn81s1XRSKkcM+tnZpdLOk/SNdF+L0bbLzCzodHtTDO7zszmRqOMJplZ+2jdvVGWTdHyI/b2G+GFnpe0XlKf8h5nsRFaPzGzRZLeKT5qy8xuV2FJ9/fo8fw92s/NrFt0u6aZ3W1mi8xspZk9aGa1o3XNzOwlM9sQjSabYGb8jQkAQBrhf/wAACBZzJKUb2aPmdnJZta4aIW7T5d0haRPoulcjaJVWyX9WFIjSadK+j8zGxatOzL62ija55MS5zsh2qZHtP8PJK1194ckPSXprmi/00vJ+mtJ50o6RVIDSZdI2hat+0LSQElNJD0t6Tkzq7U33wgzyzCzs6Jckyt4nEWOktRb0onFF7r79ZImSPp59Hh+Xsop71Th92GgpG6S2kq6KVr3G0lLJDWX1FLSdZJ8bx4PAABIbpRLAAAgKbj7JkmHq7C4eFjSajMbb2Yty9nnPXef7O4F7p4j6RkVliyxyJVUX1IvSebu0919eYz7XirpBnefGY0y+sbd10aZnnT3te6e5+5/llRTUs8Yj9smGpW1RtLNki6IzhHL47zF3be6+/YYzyWpcASXpMskXe3u69x9s6Q/SvphtEmupNaSOrp7rrtPcHfKJQAA0gjlEgAASBpRwXORu7eT1E9SG0n3lLW9mR1kZu+a2Woz26jC0U3NYjzXO5L+Lul+SSvN7KHouk+xaC9pbhmZfmNm06OpdhskNYw1kwqvudTI3Zu4+0B3fzY6ZiyPc3GM5yipuaQ6kiZFU982SHotWi5Jf5I0R9IbZjbPzEZW8jwAACBJUS4BAICk5O4zJP1HhSWTVPpUrKcljZfU3t0bqvC6TFbO9iXPcZ+7HyCprwqnhf0uxn0XS+pacmF0faURkr4vqXE0fW9jsUyVVd7jLFJe5vLWrZG0XVLfqNhq5O4N3b2eJLn7Znf/jbt3kXS6pF+b2XGVfiQAACDpUC4BAICkYGa9olE/7aL77VV4XaNPo01WSmpnZjWK7VZf0jp332FmB0r6UbF1qyUVSOpSxvmGRCOCslV4TaMdkvKLnavU/SL/knSrmXWPLgw+wMyaRnnyonNnmdlNKrwm074q73HGoszH4+4FKpyG+FczayFJZtbWzE6Mbp9mZt2i6XObVPg9yi/tWAAAIDVRLgEAgGSxWdJBkj4zs60qLJWmqPCC0pL0jqSpklaY2Zpo2ZWS/mBmm1V4Aer/FR3M3bdJul3SR9F0r4NLnK+BCkuV9ZIWSlor6e5o3b9V+CltG8zs+VKy/iU61xsqLFz+Lam2pNclvarCi5MvVGFhVdnpasWV+ThjdK+kc8xsvZndV8r6ESqc+vapmW2S9Ja+u05U9+j+FkmfSHrA3d/b+4cAAACSlXG9RQAAAAAAAFQWI5cAAAAAAABQaZRLAAAAAAAAqDTKJQAAAAAAAFQa5RIAAAAAAAAqLSt0gHho1qyZd+rUKXQMAAAAAACAlDFp0qQ17t685PKULJc6deqkiRMnho4BAAAAAACQMsxsYWnLmRYHAAAAAACASqNcAgAAAAAAQKWl5LQ4AED6Wrh2qx6eME/Pf7VMW3fmqW7NLA3bv40uO6KLOjatGzoeAAAAkHIolwAAKePdmat05ZNfKje/QHkFLknasjNPz36+WGMmLdUD5w/SMT1bBE4JAACAVJdub3iau4fOUOUGDx7sXNAbANLLwrVbddI9E7Q9N7/MbWpnZ+q1q45Iyf+hA0BVSrcXRQBQlUp7w1OSsjJM2ZkZSf2Gp5lNcvfBJZdzzSUAQEp4eMI85eYXlLtNbn6B/jVhfjUlAoDk9O7MVTrpngl69vPF2rIzT67vRoGedM8EvTtzVeiIAJCwFq7dqiuf/FLbc/N3K5YkKa/AtT03X1c++aUWrt0aKGF8MC0OAJASnv9q2R7/Ay8pr8D13KTFOrx7M5mkDDOZKfpnMn339dt1Rcui2xkZRdtJkinD9txHJY6dYTHuU+zYFm2nYreL76Oi3LtlLfZ4SuxT9BgBoDzFXxSVlFfgyisofFHEKFAAKN3evOF567B+1ZQq/iiXAAApYevOvJi225FboJ8+MSnOaRLX3hRSst1Ltu+KsKLtdt+n6Pgl91GZ5/yu+CqzzCu2T2Ge7/YvtcyL9s+Iclop++yZp/g599zHdtuueFlYyj57rNt9H0XZSu6jPY4dZS32eHZ7bCW/d0U/22LnL/4zKvX7Xco+hQVq8e/3nvvsvvy7x/Hd97u0xxD9rmTs/tgr3KfE92v37/fuZaxl7P49qnAfytZSpeuLIlSfosuyuEtebNl3t6Wie8Wv4FJyeVn7Ft1x+bf7V3Qe7Xa8cs5TIk9p5/n28e2Wv+Q23+377XlKOV6VnacSj7u085T6vS3vZ1Hq97Hs76/K2qacn6PKPF7py1Xye1HK97H44979+1H2z7H4z+x/XyyJ6Q3PcV8tTannUcolAEBKqFszS1tiKJjq1MjUc1cc8u0fK0V/EBREf2wU/aFRdLsg+mPSo7/ACkrZR7tt991tfbvd7vtoj2N/90erl7JP6Xli2KdEHo9OXFDKPiUfw+5Z99xHxb8Hxfb5LmvRPqXl3Pt9ivYr8KLHsOc+JR9bqd/v3Y6952Mr9ftdSk6XVFBQ4udfYh+VPKeKvwBAIihZSJZWYu5RkmbYbvuUVmLuVjCWWkjGPuLxu0KylNGLpeyj3bYrvfAsb9TmK5OXx/Si6JnPFxVOmdvjRWvR7XJe/JXxQq1ofekvSMs+j3ZbHsN5ylhe1ovMogPufv7SzhPrC9LvzqMKz7/7i/jvjl3BtrttH8Pj3OPntefyPR73btt/t7y88wD4ztZdsb0xmiwolwAAKWHY/m307OeLy31RlJVhGj6onfq2aViNyYDdFZVbJQspFbu9WyFVUKKY054lmCsqyYqKM49xn2LHjmmfYmVcYXm25z7a7djf7aNvt9t9H+2Rp3gBWH7ZWn6JufuL7aIycPesZZetXso+0u7fg6J99G22sgvJ3XIWzxvjPlKxYrbYPvkFZZetXso+Zf6eReeuqFgqklfgmrRwvaTvSrrC2/btbZWx/NvRiNFtFdsm2u3b5SW3/e7YJY9X/nmKspgUjXIrvFdUshVuYmXmqeg8KiXjHtmLnadYrNIfd8nzl5KxovOoxLalPc7i51G52+z5uFXGz6asY6jUx1n2eYpnKus8Zf0elfUzK7lsz9+j8s9T7u90DL9HZX5vvl1X2vnLPk/Fv0clfwalLy/te1P271H551EZy8v7/sb0uEv9WVe8bcW/r+U8Z+zl4y46xqBb39TWnWV/wEyRujVSq45JrUcDAEhblx3RRWMmLVVeQdn/M8/OzNClR3SuxlTAnr6dSiareGOgmvW7+fWYRoHWq5mlD645phoSAUByOWv/tjG94XnW/m2rMVX88WlxAICU0LFp3TLnrWdlmGpnZ+qB8wdxAVoAKMew/dsoK6P84jMVXxQBQFW57Iguys4sv2pJxTc8KZcAACnB3fVSzjLVys7QWfu3Vb2aWTIrfHf93AM76LWrjtAxPVuEjgkACS1dXxQBQFXp2LSuHjh/kGpnZ+5R1qfyG55MiwMApIQXvl6m92au1s2n99HFh/GiBwAqo+hF0ZVPfqnc/ILdpnVkZZiyMzNS8kURAFSlY3q20GtXHaF/TZivcV8t1dZdeapbI0tn7d9Wlx7ROSWfQ634JxqkisGDB/vEiRNDxwAAVJM1W3bq+L+8r87N6uq5Kw5VZgVTOgAA5Vu4dmtavSgCAMTGzCa5++CSyxm5BABIer9/cZq27szXncMHUCwBQBUouo5dWdeyAwCgOK65BABIam9OW6kXv1mmnx/bTd1b1g8dBwAAAEg7lEsAgKS1aUeubnh+snq1qq8rjuoaOg4AAACQlpgWBwBIWqNenaHVm3fqoQsGq0YW75cAAAAAIfCXOAAgKX0yd62e/myRLj2ii/Zr3yh0HAAAACBtUS4BAJLO9l35unZsjjo2raOrh/YIHQcAAABIa0yLAwAknXvemqUFa7fp6csOUu0amaHjAAAAAGmNkUsAgKSSs2SDHp4wT+ce2F6Hdm0WOg4AAACQ9iiXAABJIze/QNeMzlHz+jU18uTeoeMAAAAAENPiAABJ5J/vz9WMFZv18I8Hq2Ht7NBxAAAAAIiRSwCAJDFn1Wbd9/YcnTagtY7v0zJ0HAAAAAARyiUAQMLLL3BdMzpHdWpm6pYz+oaOAwAAAKAYyiUAQMJ74pMF+nLRBt10Wh81q1czdBwAAAAAxVAuAQAS2pL123TX6zN1VI/mOmv/tqHjAAAAACiBcgkAkLDcXdeNmyKTdPtZ/WRmoSMBAAAAKIFyCQCQsMZ+uVQfzFqtESf3UrvGdULHAQAAAFAKyiUAQEJavXmn/vDSNA3u2FjnH9QxdBwAAAAAZaBcAgAkpFvGT9X2XfkaNXyAMjKYDgcAAAAkKsolAEDCeX3qCr08ebl+NbS7urWoFzoOAAAAgHJQLgEAEsrG7bm68fkp6t26gS4/skvoOAAAAAAqQLkEAEgod7wyXWu37tKfzhmg7Ez+NwUAAAAkOv5qBwAkjI/mrNGzXyzWpUd0Vr+2DUPHAQAAABADyiUAQELYtitP146drE5N6+jqoT1CxwEAAAAQo6zQAQAAkKS/vDFLi9Zt07OXH6xa2Zmh4wAAAACIESOXAADBfb14gx75aL7OO6iDDu7SNHQcAAAAAHuBcgkAENSuvAKNGJ2jlg1qaeTJvULHAQAAALCXmBYHAAjqH+/N1cyVm/XvCwerfq3s0HEAAAAA7CVGLgEAgpm1crP+/u5snbFfGx3Xu2XoOAAAAAAqgXIJABBEfoHrmtE5qlczSzef3id0HAAAAACVxLQ4AEAQj328QF8v3qB7fzhQTevVDB0HAAAAQCUFHblkZieZ2Uwzm2NmI0tZb2Z2X7Q+x8wGhcgJAKhai9dt059en6lje7XQGfu1CR0HAAAAwD4IVi6ZWaak+yWdLKmPpHPNrOS8iJMldY/+XS7pH9UaEgBQ5dxd146drMwM023D+snMQkcCAAAAsA9Cjlw6UNIcd5/n7rskPSvpzBLbnCnpcS/0qaRGZta6uoMCAKrOc5OW6MM5azTi5F5q06h26DgAAAAA9lHIcqmtpMXF7i+Jlu3tNpIkM7vczCaa2cTVq1dXaVAAQNVYtWmHbntpmg7s1ETnHdghdBwAAAAAVSBkuVTaPAivxDaFC90fcvfB7j64efPm+xwOAFD1bnphqnbkFWjU8P7KyGA6HAAAAJAKQpZLSyS1L3a/naRlldgGAJAEXp28XK9NXaGrh/ZQl+b1QscBAAAAUEVClktfSOpuZp3NrIakH0oaX2Kb8ZJ+HH1q3MGSNrr78uoOCgDYNxu35erGF6aqX9sGuuyIzqHjAAAAAKhCWaFO7O55ZvZzSa9LypT0iLtPNbMrovUPSnpF0imS5kjaJuniUHkBAJV328vTtH7bLj12yRBlZYZ8XwMAAABAVQtWLkmSu7+iwgKp+LIHi912ST+r7lwAgKozYfZqPTdpia48uqv6tmkYOg4AAACAKsbbxwCAuNm6M0/Xjp2sLs3q6pfHdQ8dBwAAAEAcBB25BABIbX9+Y5aWrN+u5644RLWyM0PHAQAAABAHjFwCAMTFl4vW69GP5+vHh3TUkE5NQscBAAAAECeUSwCAKrczL18jRueodYNauuakXqHjAAAAAIgjpsUBAKrc/e/O1exVW/ToRUNUryb/qwEAAABSGSOXAABVasaKTXrg3Tk6a/+2OqZXi9BxAAAAAMQZ5RIAoMrkF7hGjM5Rw9rZuvG0PqHjAAAAAKgGzFUAAFSZRz+ar2+WbNTfzt1fTerWCB0HAAAAQDVg5BIAoEosXLtVd78xU0N7t9BpA1qHjgMAAACgmlAuAQD2mbtr5JjJys7I0K3D+snMQkcCAAAAUE0olwAA++y/XyzWJ/PW6tpTeqt1w9qh4wAAAACoRpRLAIB9snLTDt3+ynQd3KWJfjikfeg4AAAAAKoZ5RIAoNLcXTc8P0W78go06uwByshgOhwAAACQbiiXAACV9srkFXpz2kr95oQe6tSsbug4AAAAAAKgXAIAVMr6rbt08/gp6t+2oS45rHPoOAAAAAACyQodAACQnG59eZo2bMvV45ccpKxM3qsAAAAA0hWvBgAAe+29mas09sul+r+ju6pPmwah4wAAAAAIiHIJALBXtuzM0/Xjpqhr87r6+bHdQscBAAAAEBjT4gAAe+Xu12dq2cbtGn3FIaqZlRk6DgAAAIDAGLkEAIjZxAXr9NgnC3ThIZ10QMcmoeMAAAAASACUSwCAmOzIzdeIMTlq07C2fndiz9BxAAAAACQIpsUBAGLy93fmaO7qrXrskgNVtyb/+wAAAABQiJFLAIAKTVu2SQ++P1fDB7XTUT2ah44DAAAAIIFQLgEAypWXX6ARY3LUqE62bjytd+g4AAAAABIM8xoAAOX694fzNXnpRt3/o0FqVKdG6DgAAAAAEgwjlwAAZZq/Zqv+8uYsndCnpU7p3yp0HAAAAAAJiHIJAFCqggLXyDE5qpGVoVuH9ZOZhY4EAAAAIAFRLgEASvXsF4v12fx1uuHU3mrZoFboOAAAAAASFOUSAGAPyzdu1x2vTNehXZvq+4Pbh44DAAAAIIFRLgEAduPuumHcFOUWFGjU2QOYDgcAAACgXJRLAIDdvJizXG/PWKXfntBTHZrWCR0HAAAAQIKjXAIAfGvd1l26ZfxU7de+kS4+rHPoOAAAAACSAOUSAOBbt740TZt35Oqu4QOUmcF0OAAAAAAVo1wCAEiS3p2xSuO+Wqorj+6mnq3qh44DAAAAIElQLgEAtHlHrq4fN1k9WtbTlcd0DR0HAAAAQBLJCh0AABDeXa/N1PJNOzTmvENVMyszdBwAAAAASYSRSwCQ5j6fv05PfLpQFx/aWYM6NA4dBwAAAECSoVwCgDS2IzdfI8fkqF3j2vrtiT1CxwEAAACQhJgWBwBp7L63Z2vemq168icHqU4N/pcAAAAAYO8xcgkA0tSUpRv1zw/m6fuD2+nw7s1CxwEAAACQpCiXACAN5eYX6JrROWpSt4auP6VP6DgAAAAAkhhzIAAgDT08YZ6mLd+kB88fpIZ1skPHAQAAAJDEGLkEAGlm7uotuuet2Tq5Xyud1K916DgAAAAAkhzlEgCkkYIC17VjJqtWVoZ+f2bf0HEAAAAApADKJQBII099vkifL1inG0/roxb1a4WOAwAAACAFUC4BQJpYumG7Rr0yXUd0b6ZzDmgXOg4AAACAFEG5BABpwN11/bjJKnDpj2f1l5mFjgQAAAAgRVAuAUAaeOHrZXpv5mr97sSeat+kTug4AAAAAFII5RIApLi1W3bq9y9O1f4dGunCQzuFjgMAAAAgxVAuAUCK+/2L07R1Z77uGj5AmRlMhwMAAABQtSiXACCFvTVtpcZ/s0w/O6aburesHzoOAAAAgBREuQQAKWrTjlzd8PwU9WxZX/93dNfQcQAAAACkqKzQAQAA8THq1RlatXmHHrzgANXI4r0EAAAAAPHBqw0ASEGfzlurpz9bpJ8c3lkD2zcKHQcAAABACqNcAoAUsyM3XyPH5KhDkzr69fE9Q8cBAAAAkOKYFgcAKeavb83SgrXb9PRlB6l2jczQcQAAAACkOEYuAUAKyVmyQQ9/ME8/HNJeh3ZtFjoOAAAAgDRAuQQAKSI3v0DXjM5Rs3o1de0pvUPHAQAAAJAmmBYHACnin+/P1YwVm/XQBQeoYe3s0HEAAAAApAlGLgFACpizaovue3uOTh3QWif0bRU6DgAAAIA0QrkEAEmuoMA1YkyO6tTM1C2n9w0dBwAAAECaoVwCgCT3xKcLNWnhet14ah81r18zdBwAAAAAaYZyCQCS2JL123TnazN0ZI/mOntQ29BxAAAAAKQhyiUASFLuruvGTZEk/fGsfjKzwIkAAAAApCPKJQBIUuO+WqoPZq3WiJN6qV3jOqHjAAAAAEhTlEsAkIRWb96pP7w0TYM7NtYFB3cMHQcAAABAGqNcAoAkdMuLU7VtZ75GDR+gjAymwwEAAAAIh3IJAJLM61NX6OWc5frlcd3UrUW90HEAAAAApDnKJQBIIhu35+rG56eoV6v6+ulRXUPHAQAAAABlhQ4AAIjdqFena82Wnfr3hUOUncn7AwAAAADC45UJACSJj+es0TOfL9ZlR3ZR/3YNQ8cBAAAAAEmUSwCQFLbvytfIsZPVqWkdXT20R+g4AAAAAPAtpsUBQBL4y5sztWjdNj1z2cGqlZ0ZOg4AAAAAfCvIyCUza2Jmb5rZ7Ohr4zK2e8TMVpnZlOrOCACJ4pvFG/TvD+frRwd10CFdm4aOAwAAAAC7CTUtbqSkt929u6S3o/ul+Y+kk6orFAAkml15BRoxJkct6tfSyJN7hY4DAAAAAHsIVS6dKemx6PZjkoaVtpG7fyBpXTVlAoCE8+D7czVjxWbdNqyfGtTKDh0HAAAAAPYQqlxq6e7LJSn62mJfD2hml5vZRDObuHr16n0OCAChzV65WX97Z7bO2K+NhvZpGToOAAAAAJQqbhf0NrO3JLUqZdX18Tifuz8k6SFJGjx4sMfjHABQXfILXNeMyVG9mlm6+fQ+oeMAAAAAQJniVi65+9Cy1pnZSjNr7e7Lzay1pFXxygEAyeixjxfoq0UbdM8PBqppvZqh4wAAAABAmUJNixsv6cLo9oWSXgiUAwASzuJ12/Sn12fqmJ7NdebANqHjAAAAAEC5QpVLoyQdb2azJR0f3ZeZtTGzV4o2MrNnJH0iqaeZLTGznwRJCwDVxN113bjJyjDp9rP6y8xCRwIAAACAcsVtWlx53H2tpONKWb5M0inF7p9bnbkAILTRk5Zowuw1unVYP7VpVDt0HAAAAACoUKiRSwCAElZt3qFbX5qmAzs10XkHdggdBwAAAABiQrkEAAni5hemakdege4Y3l8ZGUyHAwAAAJAcKJcAIAG8NmW5Xp2yQlcN7a6uzeuFjgMAAAAAMaNcAoDANm7L1Y0vTFXfNg102RFdQscBAAAAgL0S5ILeAIDv3P7KNK3bukuPXjRE2Zl0/gAAAACSC69iACCgD2ev0f8mLtHlR3ZRv7YNQ8cBAAAAgL1GuQQAgWzblaeRY3PUpVld/eq47qHjAAAAAEClMC0OAAK5+/VZWrJ+u/7300NUKzszdBwAAAAAqBRGLgFAAF8uWq9HP56vCw7uqAM7NwkdBwAAAAAqjXIJAKrZzrx8jRido9YNaumak3qGjgMAAAAA+4RpcQBQzR54d65mr9qiRy8aovq1skPHAQAAAIB9wsglAKhGM1Zs0gPvzdGwgW10TK8WoeMAAAAAwD6jXAKAapJf4BoxZrLq18rWTaf3DR0HAAAAAKoE0+IAoJo8+tF8fbN4g+47d381qVsjdBwAAAAAqBKMXAKAarBo7Tbd/cZMDe3dQqcPaB06DgAAAABUGcolAIgzd9fIsTnKzsjQrcP6ycxCRwIAAACAKkO5BABx9r+Ji/Xx3LUaeUovtW5YO3QcAAAAAKhSlEsAEEcrN+3QbS9P10Gdm+jcIR1CxwEAAACAKke5BABx4u668fkp2pVXoFHDBygjg+lwAAAAAFIP5RIAxMmrU1bojWkr9evje6hzs7qh4wAAAABAXFAuAUAcbNi2Sze9MEX92zbUTw7vHDoOAAAAAMRNVugAAJCKbn1pujZsy9XjlxykrEx6fAAAAACpi1c8AFDF3p+1WmO+XKIrjuqqPm0ahI4DAAAAAHFFuQQAVWjrzjxdN3ayujavq58f2y10HAAAAACIO6bFAUAV+tPrM7Vs43Y999NDVCs7M3QcAAAAAIg7Ri4BQBWZtHCdHvtkgS48pJMGd2oSOg4AAAAAVAvKJQCoAjty83XN6By1aVhbvzuxZ+g4AAAAAFBtmBYHAFXg/nfnaO7qrfrPxUNUtyZPrQAAAADSByOXAGAfTV++Sf94b67OHtRWR/dsEToOAAAAAFQryiUA2Ad5+QUaMSZHjepk68ZT+4SOAwAAAADVjrkbALAPHvlovnKWbNT9PxqkxnVrhI4DAAAAANWOkUsAUEkL1mzVn9+YpRP6tNQp/VuFjgMAAAAAQVAuAUAlFBS4RozJUY2sDN06rJ/MLHQkAAAAAAiCcgkAKuHZLxbrs/nrdP0pvdWyQa3QcQAAAAAgGMolANhLKzbu0B2vTNchXZrqB0Pah44DAAAAAEFRLgHAXnB33fD8ZOUWFGjU8P5MhwMAAACQ9iiXAGAvvJSzXG9NX6XfntBTHZvWDR0HAAAAAIKjXAKAGK3buku3jJ+q/do11MWHdQ4dBwAAAAASQlboAACQLG59aZo2bs/VU5cdpMwMpsMBAAAAgMTIJQCIybszV2ncV0t15THd1KtVg9BxAAAAACBhUC4BQAW27MzT9WMnq3uLevrZMV1DxwEAAACAhMK0OACowF2vzdDyTTs05v8OVc2szNBxAAAAACChMHIJAMrx+fx1evyThbro0E4a1KFx6DgAAAAAkHAolwCgDDty8zVyTI7aNa6t357QM3QcAAAAAEhITIsDgDLc9/ZszVuzVU/85EDVrcnTJQAAAACUhpFLAFCKqcs26p8fzNP3DminI7o3Dx0HAAAAABIW5RIAlJCXX6BrRueoSd0auuHUPqHjAAAAAEBCY54HAJTw8IT5mrpsk/5x3iA1rJMdOg4AAAAAJDRGLgFAMfNWb9Ff35qlk/q20sn9W4eOAwAAAAAJj3IJACIFBa6RYyarVlaG/nBm39BxAAAAACApUC4BQOTpzxfp8wXrdMNpfdSiQa3QcQAAAAAgKVAuAYCkZRu2a9SrM3R4t2b63gHtQscBAAAAgKRBuQQg7bm7bnh+ivILXHec3V9mFjoSAAAAACQNyiUAaW/8N8v0zoxV+u2JPdW+SZ3QcQAAAAAgqVAuAUhra7fs1C3jp2pg+0a66NBOoeMAAAAAQNKhXAKQ1v7w0jRt2Zmnu84ZoMwMpsMBAAAAwN6iXAKQtt6evlIvfL1MPz+mu3q0rB86DgAAAAAkJcolAGlp845cXT9uinq2rK//O7pr6DgAAAAAkLSyQgcAgBBGvTpDqzbv0IMXHKAaWfTsAAAAAFBZvKICkHY+nbdWT322SJcc1lkD2zcKHQcAAAAAkhrlEoC0siM3XyPH5KhDkzr69Qk9QscBAAAAgKTHtDgAaeWet2ZrwdptevrSg1SnBk+BAAAAALCvGLkEIG1MXrJRD0+Ypx8Oaa9DuzULHQcAAAAAUgLlEoC0kJtfoGvG5Khp3Rq69pTeoeMAAAAAQMpgTgiAtPDQB/M0ffkm/fOCA9SwdnboOAAAAACQMhi5BCDlzVm1Rfe+NVun9m+tE/u2Ch0HAAAAAFIK5RKAlFZQ4Bo5Jke1a2TqljP6ho4DAAAAACmHcglASnvys4WauHC9bjqtj5rXrxk6DgAAAACkHMolAClryfptuvPVGTqiezOdPaht6DgAAAAAkJIolwCkJHfX9eOmyCX98az+MrPQkQAAAAAgJVEuAUhJ475aqvdnrdY1J/ZU+yZ1QscBAAAAgJRFuQQg5azZslN/eGmaDujYWBcc0il0HAAAAABIaZRLAFLOLeOnatvOfN05vL8yM5gOBwAAAADxFKRcMrMmZvammc2OvjYuZZv2ZvaumU03s6lm9qsQWQEklzemrtBLOcv1y+O6qVuL+qHjAAAAAEDKCzVyaaSkt929u6S3o/sl5Un6jbv3lnSwpJ+ZWZ9qzAggyWzcnqsbX5iiXq3q66dHdQ0dBwAAAADSQqhy6UxJj0W3H5M0rOQG7r7c3b+Mbm+WNF0SnyUOoEyjXp2u1Zt36q5zBig7k1m/AAAAAFAdQr36aunuy6XCEklSi/I2NrNOkvaX9Fk521xuZhPNbOLq1aurMiuAJPDx3DV65vPFuuyILhrQrlHoOAAAAACQNrLidWAze0tSq1JWXb+Xx6knaYykq9x9U1nbuftDkh6SpMGDB/venANActu+K1/Xjp2sTk3r6KqhPULHAQAAAIC0Erdyyd2HlrXOzFaaWWt3X25mrSWtKmO7bBUWS0+5+9g4RQWQ5P761iwtXLtNz1x2sGrXyAwdBwAAAADSSqhpceMlXRjdvlDSCyU3MDOT9G9J0939L9WYDUAS+WbxBv1rwjyde2AHHdK1aeg4AAAAAJB2QpVLoyQdb2azJR0f3ZeZtTGzV6JtDpN0gaRjzezr6N8pYeICSES78go0YkyOmtevqWtP6RU6DgAAAACkpbhNiyuPu6+VdFwpy5dJOiW6/aEkq+ZoAJLIg+/P1YwVm/WvHw9Wg1rZoeMAAAAAQFris7oBJKXZKzfr7+/M0en7tdHQPi1DxwEAAACAtEW5BCDp5Be4RozJUd2ambr59D6h4wAAAABAWqNcApB0Hv9kgb5ctEE3nd5HzerVDB0HAAAAANIa5RKApLJ43Tbd9dpMHd2zuYYNbBs6DgAAAACkvQrLJTPramY1o9tHm9kvzaxR3JMBQAnuruvGTVaGSbef1V9mXPMfAAAAAEKLZeTSGEn5ZtZN0r8ldZb0dFxTAUApxny5VBNmr9HIk3upbaPaoeMAAAAAABRbuVTg7nmSzpJ0j7tfLal1fGMBwO5Wbd6hW1+apiGdGuu8gzqGjgMAAAAAiMRSLuWa2bmSLpT0UrQsO36RAGBPt4yfqu25+Ro1fIAyMpgOBwAAAACJIpZy6WJJh0i63d3nm1lnSU/GNxYAfOe1Kcv1yuQV+tVx3dW1eb3QcQAAAAAAxWRVtIG7TzOzEZI6RPfnSxoV72AAIEkbt+Xqxhemqk/rBrr8yC6h4wAAAAAASojl0+JOl/S1pNei+wPNbHyccwGAJOmPr0zXuq27dNc5A5SdGctgSwAAAABAdYrlldotkg6UtEGS3P1rFX5iHADE1Udz1ui/Exfr8iO7qF/bhqHjAAAAAABKEUu5lOfuG0ss83iEAYAi23blaeTYHHVpVle/Oq576DgAAAAAgDJUeM0lSVPM7EeSMs2su6RfSvo4vrEApLs/vzFLi9dt138vP1i1sjNDxwEAAAAAlCGWkUu/kNRX0k5Jz0jaJOmqOGYCkOa+XLRej3w0X+cf3EEHdWkaOg4AAAAAoByxfFrcNknXR/8AIK525RVo5JgctWpQSyNO6hU6DgAAAACgAmWWS2Z2j7tfZWYvqpRrLLn7GXFNBiAtPfDeHM1auUWPXDRY9Wtlh44DAAAAAKhAeSOXnoi+3l0dQQBg5orNuv/dORo2sI2O7dUydBwAAAAAQAzKLJfcfVJ0c6C731t8nZn9StL78QwGIL3kF7iuGZOj+rWyddPpfUPHAQAAAADEKJYLel9YyrKLqjgHgDT36Efz9c3iDbr59D5qUrdG6DgAAAAAgBiVd82lcyX9SFJnMxtfbFV9SWvjHQxA+li0dpvufmOmjuvVQmfs1yZ0HAAAAADAXijvmksfS1ouqZmkPxdbvllSTjxDAUgf7q5rx+UoKyNDt53VT2YWOhIAAAAAYC+Ud82lhZIWSjqk+uIASDfPTVyij+as1e1n9VPrhrVDxwEAAAAA7KXypsV96O6Hm9lmSV58lSR39wZxTwcgpa3ctEO3vjxNB3ZuonOHdAgdBwAAAABQCeWNXDo8+lq/+uIASBfurhufn6JdeQUadXZ/ZWQwHQ4AAAAAklGFnxZnZk/EsgwA9sarU1bojWkrdfXxPdSleb3QcQAAAAAAlVRhuSSpb/E7ZpYl6YD4xAGQDjZs26WbXpiqfm0b6NLDO4eOAwAAAADYB2WWS2Z2bXS9pQFmtsnMNkf3V0p6odoSAkg5t708XRu27dJdw/dTVmYsHTcAAAAAIFGV+arO3e+Irrf0J3dv4O71o39N3f3aaswIIIV8MGu1Rk9aop8e1UV92vC5AAAAAACQ7Mq8oHcRd7/WzM6QdGS06D13fym+sQCkoq0783Tt2Mnq0ryufnFs99BxAAAAAABVIJYLet8h6VeSpkX/fhUtA4C98qfXZ2rZxu26a/gA1crODB0HAAAAAFAFKhy5JOlUSQPdvUCSzOwxSV9JYmocgJhNWrhej32yQD8+uKMGd2oSOg4AAAAAoIrEeiXdRsVuN4xDDgApbGdevkaMyVGbhrX1u5N6hY4DAAAAAKhCsYxc+qOkr8zsXUmmwmsvMWoJQMzuf2eO5qzaov9cPET1asbytAMAAAAASBblvsozswxJBZIOljREheXSCHdfUQ3ZAKSA6cs36YH35urs/dvq6J4tQscBAAAAAFSxcssldy8ws5+7+/8kja+mTABSRF5+gUaMyVHD2tm68bQ+oeMAAAAAAOIglmsuvWlmvzWz9mbWpOhf3JMBSHqPfDRfOUs26vdn9lXjujVCxwEAAAAAxEEsFz+5JPr6s2LLXFKXqo8DIFUsWLNVf3lzlo7v01Kn9m8dOg4AAAAAIE4qLJfcvXN1BAGQOtxdI8fmKDszQ7cN6yczCx0JAAAAABAnMX1sk5n1k9RHUq2iZe7+eLxCAUhuz36xWJ/OW6c7zu6vlg1qVbwDAAAAACBpVVgumdnNko5WYbn0iqSTJX0oiXIJwB5WbNyhP748XYd0aaofDmkfOg4AAAAAIM5iuaD3OZKOk7TC3S+WtJ+kmnFNBSApubtueH6KcgsKdMfZ/ZkOBwAAAABpIJZyabu7F0jKM7MGklaJi3kDKMXLk5frrekr9Zvje6pTs7qh4wAAAAAAqkEs11yaaGaNJD0saZKkLZI+j2coAMln/dZduvmFqdqvXUNdfFin0HEAAAAAANWk3HLJzJpLekSS3P1BM3tNUgN3z6mOcACSx60vTdPG7bl68tKDlJUZy6BIAAAAAEAqKPMVoJldKmmqpL9JmmFmZ7j7AoolACW9O3OVxn61VFce3VW9WzcIHQcAAAAAUI3KG7l0laS+7r7azLpIekrS+GpJBSBpbNmZp+vHTla3FvX0s2O7hY4DAAAAAKhm5c1d2eXuqyXJ3eeJT4gDUIo/vTZDyzft0J3DB6hmVmboOAAAAACAalbeyKV2ZnZfWffd/ZfxiwUgGXyxYJ0e/3ShLjq0kw7o2Dh0HAAAAABAAOWVS78rcX9SPIMASC47cvM1YkyO2jSsrd+e0DN0HAAAAABAIGWWS+7+WHUGAZBc/vbObM1bvVWPX3Kg6tYs94MnAQAAAAApjM8LB7DXpi7bqAffn6dzDminI3s0Dx0HAAAAABAQ5RKAvZKXX6ARY3LUuE4N3XBq79BxAAAAAACBMZcFwF7514fzNWXpJv3jvEFqVKdG6DgAAAAAgMDKLJfM7G+SvKz1fFockH7mrd6iv745Syf1baWT+7cOHQcAAAAAkADKG7k0sdpSAEh4BQWukWMnq2ZWhv5wZt/QcQAAAAAACYJPiwMQk6c/X6TP56/TXcMHqEWDWqHjAAAAAAASRIXXXDKz5pJGSOoj6dtXlO5+bBxzAUggyzdu16hXZ+iwbk31vcHtQscBAAAAACSQWD4t7ilJ0yV1lvR7SQskfRHHTAASiLvr+nFTlF/guuOsATKz0JEAAAAAAAkklnKpqbv/W1Kuu7/v7pdIOjjOuQAkiPHfLNM7M1bptyf2VIemdULHAQAAAAAkmAqnxUnKjb4uN7NTJS2TxLwYIA2s3bJTv39xmga2b6SLDu0UOg4AAAAAIAHFUi7dZmYNJf1G0t8kNZB0dVxTAUgIf3hpmjbvyNWdwwcoM4PpcAAAAACAPVVYLrn7S9HNjZKOiW8cAIninRkr9cLXy3TV0O7q2ap+6DgAAAAAgARV4TWXzOwxM2tU7H5jM3skrqkABLV5R66uHzdFPVvW15VHdwsdBwAAAACQwGK5oPcAd99QdMfd10vaP26JAAR352sztHLTDt15zgDVyIrlaQIAAAAAkK5iedWYYWaNi+6YWRPFdq0mAEnos3lr9eSni3TxYZ01sH2j0HEAAAAAAAkulpLoz5I+NrPR0f3vSbo9fpEAhLIjN18jx05W+ya19ZsTeoSOAwAAAABIArFc0PtxM5so6VhJJulsd58W92QAqt09b83W/DVb9dSlB6lODQYoAgAAAAAqVuarRzNr4O6bomlwKyQ9XWxdE3dfVx0BAVSPKUs36uEJ8/SDwe11WLdmoeMAAAAAAJJEeUMTnpZ0mqRJkrzYcovud4ljLgDVKDe/QNeMzlHTujV03am9Q8cBAAAAACSRMssldz8t+tq5+uIACOGhD+Zp2vJNevD8A9SwdnboOAAAAACAJFLhp8WZ2duxLAOQnOas2qJ7356tU/q30kn9WoWOAwAAAABIMuVdc6mWpDqSmplZYxVOh5OkBpLaVEM2AHFWUOC6dmyOamdn6pYz+oaOAwAAAABIQuVdc+mnkq5SYZE0Sd+VS5sk3R/fWACqw1OfLdQXC9br7u/tpxb1a4WOAwAAAABIQuVdc+leSfea2S/c/W9VedLoE+j+K6mTpAWSvu/u60tsU0vSB5JqRjlHu/vNVZkDSGdLN2zXqFdn6IjuzTR8UNvQcQAAAAAASarCay5JWmFm9SXJzG4ws7FmNmgfzztS0tvu3l3S29H9knZKOtbd95M0UNJJZnbwPp4XgCR31/XjJssl/fGs/jKzCvcBAAAAAKA0sZRLN7r7ZjM7XNKJkh6T9I99PO+Z0XEUfR1WcgMvtCW6mx398308LwBJz3+9VO/NXK3fndhT7ZvUCR0HAAAAAJDEYimX8qOvp0r6h7u/IKnGPp63pbsvl6Toa4vSNjKzTDP7WtIqSW+6+2dlHdDMLjeziWY2cfXq1fsYD0hda7bs1O9fnKZBHRrpx4d0Ch0HAAAAAJDkYimXlprZPyV9X9IrZlYzlv3M7C0zm1LKvzNjDefu+e4+UFI7SQeaWb9ytn3I3Qe7++DmzZvHegog7dwyfqq27czXncMHKDOD6XAAAAAAgH1T3qfFFfm+pJMk3e3uG8ystaTfVbSTuw8ta52ZrTSz1u6+PDreqgqOtcHM3otyTIkhM4BSvDltpV7KWa7fHN9D3VvWDx0HAAAAAJACyhyBZGYNopu1JL0naW30KW87JU3cx/OOl3RhdPtCSS+Ucv7mZtYoul1b0lBJM/bxvEDa2rQjVzc8P1m9WtXXT4/qGjoOAAAAACBFlDdy6WlJp0mapMILaRefP+OSuuzDeUdJ+p+Z/UTSIknfkyQzayPpX+5+iqTWkh4zs0wVlmD/c/eX9uGcQFq745UZWr15px7+8WDVyIplRiwAAAAAABUrs1xy99Oir52r+qTuvlbScaUsXybplOh2jqT9q/rcQDr6eO4aPfP5Il1+ZBcNaNcodBwAAAAAQAqJ5cLcb8eyDEBi2r4rX9eOnayOTevo6qE9QscBAAAAAKSYMkcumVktSXUkNTOzxvpuWlwDSW2qIRuAKnDPW7O0cO02PX3ZQapdIzN0HAAAAABAiinvmks/lXSVCoukSfquXNok6f74xgJQFXKWbNDDE+bp3AM76NCuzULHAQAAAACkoPKuuXSvpHvN7Bfu/rdqzASgCuzKK9A1o3PUvH5NXXtKr9BxAAAAAAApqryRS5Ikd/+bmfWT1EdSrWLLH49nMAD75p/vz9WMFZv18I8Hq0Gt7NBxAAAAAAApqsJyycxulnS0CsulVySdLOlDSZRLQIKas2qz/vbOHJ02oLWO79MydBwAAAAAQAqr8NPiJJ0j6ThJK9z9Ykn7SaoZ11QAKi2/wHXN6BzVqZmpW87oGzoOAAAAACDFxVIubXf3Akl5ZtZA0ipJXeIbC0BlPfHJAn25aINuPr2PmtWjBwYAAAAAxFeF0+IkTTSzRpIeVuGnxm2R9Hk8QwGonMXrtumu12fq6J7NNWxg29BxAAAAAABpIJYLel8Z3XzQzF6T1MDdc+IbC8DecnddN26yTNJtw/rJzEJHAgAAAACkgQqnxZnZ20W33X2Bu+cUXwYgMYz5cqkmzF6jESf3UrvGdULHAQAAAACkiTJHLplZLUl1JDUzs8aSioZBNJDUphqyAYjR6s07detL0zS4Y2Odf1DH0HEAAAAAAGmkvGlxP5V0lQqLpEn6rlzaJOn++MYCsDduGT9V23Pzdec5A5SRwXQ4AAAAAED1KbNccvd7Jd1rZr9w979VYyYAe+G1KSv08uTl+t2JPdW1eb3QcQAAAAAAaabMay6Z2RAza1VULJnZj83sBTO7z8yaVF9EAGXZuC1XN74wRX1aN9DlR3YJHQcAAAAAkIbKu6D3PyXtkiQzO1LSKEmPS9oo6aH4RwNQkT++Ml3rtu7SXecMUHZmhdfnBwAAAACgypV3zaVMd18X3f6BpIfcfYykMWb2ddyTASjXR3PW6L8TF+uKo7qqX9uGoeMAAAAAANJUeUMdMs2sqHw6TtI7xdaVV0oBiLNtu/J07djJ6tysrq4a2j10HAAAAABAGiuvJHpG0vtmtkbSdkkTJMnMuqlwahyAQP7yxiwtWrdN/738YNXKzgwdBwAAAACQxsr7tLjbzextSa0lveHuHq3KkPSL6ggHYE9fLVqvRz6ar/MO6qCDujQNHQcAAAAAkObKnd7m7p+WsmxW/OIAKM+uvAKNGJOjlg1qaeTJvULHAQAAAACAaycByeSB9+Zo1soteuSiwapfKzt0HAAAAAAAyr2gN4AEMmvlZt3/7hydObCNju3VMnQcAAAAAAAkUS4BSSG/wHXN6BzVr5Wtm07rEzoOAAAAAADfolwCksB/Pl6grxdv0M2n91HTejVDxwEAAAAA4FuUS0CCW7R2m+5+faaO7dVCZ+zXJnQcAAAAAAB2Q7kEJDB313XjJiszw3TbsH4ys9CRAAAAAADYDeUSkMCem7REH85Zo5En91KbRrVDxwEAAAAAYA+US0CCWrVph257aZoO7NxEPzqwQ+g4AAAAAACUinIJSFA3vTBVO/IKNOrs/srIYDocAAAAACAxUS4BCejVycv12tQVunpoD3VpXi90HAAAAAAAykS5BCSYDdt26cYXpqpf2wa67IjOoeMAAAAAAFCurNABAOzu9pena/22XXrskiHKyqT/BQAAAAAkNl65AglkwuzVem7SEl1xVBf1bdMwdBwAAAAAACpEuQQkiK0783Tt2Mnq0ryufnFs99BxAAAAAACICdPigARx9xsztWT9dj13xSGqlZ0ZOg4AAAAAADFh5BKQACYtXK//fLxAPz6ko4Z0ahI6DgAAAAAAMaNcAgLbmZevEWNy1LpBLV1zUq/QcQAAAAAA2CtMiwMCu//duZqzaosevXiI6tXkP0kAAAAAQHJh5BIQ0PTlm/TAu3N09v5tdUzPFqHjAAAAAACw1yiXgEDy8gs0YkyOGtbO1o2n9QkdBwAAAACASmEODhDIox8tUM6Sjfrbufurcd0aoeMAAAAAAFApjFwCAli4dqv+/OZMDe3dUqcNaB06DgAAAAAAlUa5BFQzd9fIMZOVnZGh24b1k5mFjgQAAAAAQKVRLgHV7L9fLNYn89bqulN7q1XDWqHjAAAAAACwTyiXgGq0YuMO3f7ydB3cpYl+OKR96DgAAAAAAOwzyiWgmri7bnh+inblF2jU2QOYDgcAAAAASAmUS0A1eXnycr01faV+c0IPdWpWN3QcAAAAAACqBOUSUA3Wb92lW8ZP1YB2DXXJYZ1DxwEAAAAAoMpkhQ4ApINbX56mDdty9cRPDlJWJp0uAAAAACB18CoXiLP3Zq7S2C+X6sqju6p36wah4wAAAAAAUKUol4A42rIzT9ePm6JuLerpZ8d2Cx0HAAAAAIAqx7Q4II7+9NoMLdu4XaOvOEQ1szJDxwEAAAAAoMoxcgmIk4kL1unxTxfqwkM66YCOTULHAQAAAAAgLiiXgDjYkZuvEWNy1KZhbf3uxJ6h4wAAAAAAEDdMiwPi4O/vzNHc1Vv1+CUHqm5N/jMDAAAAAKQuRi4BVWzqso168P25Gj6onY7s0Tx0HAAAAAAA4opyCahCefkFGjEmR43qZOvG03qHjgMAAAAAQNwxXweoQv/6cL6mLN2kB84bpEZ1aoSOAwAAAABA3DFyCagi89ds1V/fnKUT+7bUyf1ahY4DAAAAAEC1oFwCqkBBgWvkmBzVyMrQrWf2k5mFjgQAAAAAQLWgXAKqwDNfLNJn89fphlN7q0WDWqHjAAAAAABQbSiXgH20fON23fHKDB3atam+P7h96DgAAAAAAFQryiVgH7i7bhg3RXkFBRp19gCmwwEAAAAA0g7lErAPXsxZrrdnrNJvT+ipDk3rhI4DAAAAAEC1o1wCKmnd1l26ZfxU7de+kS4+rHPoOAAAAAAABEG5BFTSH16cqs07cnXX8AHKzGA6HAAAAAAgPVEuAZXwzoyVev7rZbry6G7q2ap+6DgAAAAAAARDuQTspc07cnX9uCnq0bKerjyma+g4AAAAAAAERbkE7KW7XpupFZt26M7hA1QzKzN0HAAAAAAAgqJcAvbC5/PX6YlPF+qSwzpr/w6NQ8cBAAAAACA4yiUgRjty8zViTI7aN6mt35zQI3QcAAAAAAASQlboAECyuPft2Zq/Zque/MlBqlOD/3QAAAAAAJACjVwysyZm9qaZzY6+ljm/yMwyzewrM3upOjMCxU1ZulEPfTBP3x/cTod3bxY6DgAAAAAACSPUtLiRkt529+6S3o7ul+VXkqZXSyqgFLn5BbpmdI6a1K2h60/pEzoOAAAAAAAJJVS5dKakx6Lbj0kaVtpGZtZO0qmS/lU9sYA9PTxhnqYt36Rbz+ynhnWyQ8cBAAAAACChhCqXWrr7ckmKvrYoY7t7JF0jqaCiA5rZ5WY20cwmrl69usqCIr3NXb1F97w1W6f0b6WT+rUKHQcAAAAAgIQTt6sSm9lbkkp7NX59jPufJmmVu08ys6Mr2t7dH5L0kCQNHjzYY08KlK6gwDVyTI5qZ2fqljP6ho4DAAAAAEBCilu55O5Dy1pnZivNrLW7Lzez1pJWlbLZYZLOMLNTJNWS1MDMnnT38+MUGdjNU58t1BcL1utP5wxQi/q1QscBAAAAACAhhZoWN17ShdHtCyW9UHIDd7/W3du5eydJP5T0DsUSqsvSDds16tUZOqJ7M51zQLvQcQAAAAAASFihyqVRko43s9mSjo/uy8zamNkrgTIBkiR31/XjJssl/fGs/jKz0JEAAAAAAEhYcZsWVx53XyvpuFKWL5N0SinL35P0XtyDAZJe+HqZ3pu5Wjef3kftm9QJHQcAAAAAgIQWauQSkJDWbNmp3784Vft3aKQfH9IpdBwAAAAAABIe5RJQzO9fnKatO/N11/ABysxgOhwAAAAAABWhXAIib01bqRe/WaafH9tN3VvWDx0HAAAAAICkQLkESNq0I1c3PD9FvVrV1xVHdQ0dBwAAAACApBHkgt5Aohn16gyt2rxD/7zgANXIonMFAAAAACBWvIpG2vtk7lo9/dki/eTwztqvfaPQcQAAAAAASCqUS0hr23fl69qxOerQpI5+fXzP0HEAAAAAAEg6TItDWrvnrVlasHabnr7sINWukRk6DgAAAAAASYeRS0hbOUs26OEJ83Tuge11aNdmoeMAAAAAAJCUKJeQlnLzC3TN6Bw1r19TI0/uHToOAAAAAABJi2lxSEv/fH+uZqzYrId/PFgNa2eHjgMAAAAAQNJi5BLSzpxVm3Xf23N06oDWOr5Py9BxAAAAAABIapRLSCv5Ba5rRueoTs1M3XJ639BxAAAAAABIepRLSCtPfLJAXy7aoJtO66Pm9WuGjgMAAAAAQNKjXELaWLJ+m+56faaO6tFcZ+3fNnQcAAAAAABSAuUS0oK767pxU2SSbj+rn8wsdCQAAAAAAFIC5RLSwtgvl+qDWat1zUm91K5xndBxAAAAAABIGZRLSHmrN+/UH16apsEdG+uCgzuGjgMAAAAAQEqhXELKu2X8VG3fla9RwwcoI4PpcAAAAAAAVCXKJaS016eu0MuTl+tXQ7urW4t6oeMAAAAAAJByKJeQsjZuz9WNz09R79YNdPmRXULHAQAAAAAgJVEuIWXd8cp0rdmyU3cNH6DsTH7VAQAAAACIB15xIyV9NGeNnv1isS47sov6t2sYOg4AAAAAACmLcgkpZ/uufF07drI6Na2jq4f2CB0HAAAAAICUlhU6AFDV/vLmTC1at03PXn6wamVnho4DAAAAAEBKY+QSUsrXizfo3x/O13kHddDBXZqGjgMAAAAAQMqjXELK2JVXoBGjc9Sifi2NPLlX6DgAAAAAAKQFpsUhZfzjvbmauXKz/vXjwapfKzt0HAAAAAAA0gIjl5ASZq3crL+/O1tn7NdGQ/u0DB0HAAAAAIC0QbmEpJdf4BoxJkf1ambp5tP7hI4DAAAAAEBaYVockt5jHy/QV4s26N4fDlTTejVDxwEAAAAAIK0wcglJbfG6bfrT6zN1bK8WOmO/NqHjAAAAAACQdiiXkLTcXdeOnazMDNNtw/rJzEJHAgAAAAAg7VAuIWk9N2mJPpyzRiNO7qU2jWqHjgMAAAAAQFqiXEJSWrVph257aZoO7NRE5x3YIXQcAAAAAADSFuUSktLN46dqR16BRg3vr4wMpsMBAAAAABAK5RKSzquTl+vVKSt09dAe6tK8Xug4AAAAAACkNcolJJWN23J14wtT1bdNA112ROfQcQAAAAAASHtZoQMAe+O2l6dp/bZd+s/FQ5SVSTcKAAAAAEBovDpH0pgwe7Wem7REPz2yi/q1bRg6DgAAAAAAEOUSksS2XXm6duxkdWlWV788rnvoOAAAAAAAIMK0OCSFu1+fpSXrt+u5Kw5RrezM0HEAAAAAAECEkUtIeF8uWq9HP56vCw7uqCGdmoSOAwAAAAAAiqFcQkLbmZevEaNz1LpBLV1zUs/QcQAAAAAAQAlMi0NCu//duZq9aosevWiI6tfKDh0HAAAAAACUwMglJKwZKzbpH+/N0Vn7t9UxvVqEjgMAAAAAAEpBuYSElF/gGjE6Rw1qZevG0/qEjgMAAAAAAMpAuYSE9OhH8/XNko26+Yy+alK3Rug4AAAAAACgDJRLSDgL127V3W/M1NDeLXT6gNah4wAAAAAAgHJQLiGhuLuuHTtZ2RkZunVYP5lZ6EgAAAAAAKAclEtIKP+buFgfz12ra0/prdYNa4eOAwAAAAAAKkC5hISxctMO3fbydB3cpYl+OKR96DgAAAAAACAGlEtICO6uG56fol15BRp19gBlZDAdDgAAAACAZEC5hITwyuQVenPaSv36+B7q1Kxu6DgAAAAAACBGlEsIbv3WXbp5/BT1b9tQPzm8c+g4AAAAAABgL2SFDgDc+vI0bdiWq8cvOUhZmfSdAAAAAAAkE17JI6j3Z63W2C+X6v+O7qo+bRqEjgMAAAAAAPYS5RKC2bIzT9eNnayuzevq58d2Cx0HAAAAAABUAtPiEMzdr8/Uso3bNfqKQ1QzKzN0HAAAAAAAUAmMXEIQExes02OfLNCFh3TSAR2bhI4DAAAAAAAqiXIJ1W5Hbr5GjMlRm4a19bsTe4aOAwAAAAAA9gHT4lDt7n93juau3qrHLjlQdWvyKwgAAAAAQDJj5BKq1bRlm/SP9+Zq+KB2OqpH89BxAAAAAADAPqJcQrXJyy/QiDE5alQnWzee1jt0HAAAAAAAUAWYk4Rq8+8P52vy0o26/0eD1KhOjdBxAAAAAABAFWDkEqrF/DVb9Zc3Z+mEPi11Sv9WoeMAAAAAAIAqQrmEuCsocI0ck6MaWRm6dVg/mVnoSAAAAAAAoIpQLiHunv1isT6bv043nNpbLRvUCh0HAAAAAABUIcolxNXyjdt1xyvTdWjXpvr+4Pah4wAAAAAAgCpGuYS4cXfdMG6KcgsKdMfZ/ZkOBwAAAABACqJcQty8mLNcb89Ypd+e0FMdm9YNHQcAAAAAAMQB5RLiYt3WXfr9+Knar30jXXxY59BxAAAAAABAnFAuIS5ufWmaNu3I1V3DBygzg+lwAAAAAACkqqwQJzWzJpL+K6mTpAWSvu/u60vZboGkzZLyJeW5++DqS4nKenfGKo37aql+dVx39WxVP3QcAAAAAAAQR6FGLo2U9La7d5f0dnS/LMe4+0CKpeSweUeurh83Wd1b1NOVx3QNHQcAAAAAAMRZqHLpTEmPRbcfkzQsUA5Usbtem6nlm3boznMGqGZWZug4AAAAAAAgzkKVSy3dfbkkRV9blLGdS3rDzCaZ2eXlHdDMLjeziWY2cfXq1VUcF7H4fP46PfHpQl18aGcN6tA4dBwAAAAAAFAN4nbNJTN7S1KrUlZdvxeHOczdl5lZC0lvmtkMd/+gtA3d/SFJD0nS4MGDfa8DY5/syM3XyDE5ate4tn57Yo/QcQAAAAAAQDWJW7nk7kPLWmdmK82stbsvN7PWklaVcYxl0ddVZjZO0oGSSi2XENZ9b8/WvDVb9eRPDlKdGkGuEw8AAAAAAAIINS1uvKQLo9sXSnqh5AZmVtfM6hfdlnSCpCnVlhAxm7J0o/75wTx974B2Orx7s9BxAAAAAABANQpVLo2SdLyZzZZ0fHRfZtbGzF6Jtmkp6UMz+0bS55JedvfXgqRFmXLzC3TN6Bw1qVtDN5zaJ3QcAAAAAABQzYLMX3L3tZKOK2X5MkmnRLfnSdqvmqNhLz08YZ6mLd+kB88fpIZ1skPHAQAAAAAA1SzUyCWkgHmrt+iet2br5H6tdFK/1qHjAAAAAACAACiXUCkFBa6RYyarVlaGfn9m39BxAAAAAABAIJRLqJSnPl+kzxes0w2n9VGL+rVCxwEAAAAAAIFQLmGvLd2wXaNema7DuzXT9w5oFzoOAAAAAAAIiHIJe8XddcO4ySpw6Y6z+8vMQkcCAAAAAAABUS5hr4z/Zpnenblavzuxp9o3qRM6DgAAAAAACIxyCTFbu2Wnbhk/Vft3aKQLD+0UOg4AAAAAAEgAlEuI2e9fnKYtO/N05/ABysxgOhwAAAAAAKBcQozemrZS479Zpp8f0109WtYPHQcAAAAAACQIyiVUaNOOXN3w/BT1bFlf/3d019BxAAAAAABAAskKHQCJ785XZ2jV5h168IIDVCOLPhIAAAAAAHyHpgDl+nTeWj312SL95PDOGti+Ueg4AAAAAAAgwVAuoUw7cvM1ckyOOjSpo18f3zN0HAAAAAAAkICYFocy/fWtWVqwdpuevvQg1a6RGToOAAAAAABIQIxcQqlylmzQwx/M0w+HtNeh3ZqFjgMAAAAAABIU5RL2kJtfoGtG56hZvZq69pTeoeMAAAAAAIAExrQ47OGhD+ZpxorNeuiCA9SwdnboOAAAAAAAIIExcgm7mbNqi+59a7ZOHdBaJ/RtFToOAAAAAABIcJRL+FZBgWvEmBzVrpGpW07vGzoOAAAAAABIApRL+NYTny7UpIXrddNpfdS8fs3QcQAAAAAAQBKgXIIkacn6bbrztRk6skdznT2obeg4AAAAAAAgSVAuQe6u68dNkST98ax+MrPAiQAAAAAAQLKgXILGfbVU789arREn9VK7xnVCxwEAAAAAAEmEcinNrd68U394aZoO6NhYFxzcMXQcAAAAAACQZCiX0twtL07Vtp35unN4f2VkMB0OAAAAAADsHcqlNPbG1BV6OWe5fnlcN3VrUT90HAAAAAAAkIQol9LUxu25uvGFKerVqr5+elTX0HEAAAAAAECSygodAGGMenW6Vm/eqX/9eIiyM+kYAQAAAABA5dAqpKGP56zRM58v1mVHdFH/dg1DxwEAAAAAAEmMcinNbN+Vr5FjJ6tT0zq6amiP0HEAAAAAAECSY1pcmvnLmzO1aN02PXPZwapdIzN0HAAAAAAAkOQYuZRGvlm8Qf/+cL5+dFAHHdK1aeg4AAAAAAAgBVAupYldeQUaMSZHLerX0siTe4WOAwAAAAAAUgTT4tLEg+/P1YwVm/WvHw9Wg1rZoeMAAAAAAIAUwcilNDB75Wb97Z3ZOn2/Nhrap2XoOAAAAAAAIIVQLqW4/ALXNWNyVK9mlm4+vU/oOAAAAAAAIMVQLqW4xz5eoK8WbdDNp/dVs3o1Q8cBAAAAAAAphnIphS1et01/en2mjunZXGcObBM6DgAAAAAASEGUSynK3XXduMnKMOn2s/rLzEJHAgAAAAAAKYhyKUWNnrREE2av0ciTe6lNo9qh4wAAAAAAgBRFuZSCVm3eoVtfmqYhnRrrvIM6ho4DAAAAAABSGOVSCrr5hanakVegUcMHKCOD6XAAAAAAACB+KJdSzGtTluvVKSt01dDu6tq8Xug4AAAAAAAgxVEupZCN23J14wtT1bdNA112RJfQcQAAAAAAQBrICh0AVef2V6Zp3dZdevSiIcrOpDcEAAAAAADxRwORIj6cvUb/m7hElx/ZRf3aNgwdBwAAAAAApAnKpRSwbVeeRo7NUZdmdfWr47qHjgMAAAAAANII0+JSwJ/fmKUl67frfz89RLWyM0PHAQAAAAAAaYSRS0nuy0Xr9chH83XBwR11YOcmoeMAAAAAAIA0Q7mUxHbm5WvE6By1alBL15zUM3QcAAAAAACQhpgWl8QeeHeuZq/aokcuGqz6tbJDxwEAAAAAAGmIkUtJauaKzXrgvTkaNrCNju3VMnQcAAAAAACQpiiXklB+geuaMTmqXytbN53eN3QcAAAAAACQxpgWl4Qe/Wi+vlm8Qfedu7+a1K0ROg4AAAAAAEhjjFxKMovWbtPdb8zU0N4tdPqA1qHjAAAAAACANEe5lETcXSPH5igrI0O3DusnMwsdCQAAAAAApDnKpSTyv4mL9fHctbr2lF5q3bB26DgAAAAAAACUS8li5aYduu3l6TqocxOdO6RD6DgAAAAAAACSKJeSgrvrxuenaFdegUYNH6CMDKbDAQAAAACAxEC5lARenbJCb0xbqV8f30Odm9UNHQcAAAAAAOBbWaEDYHcL127VwxPm6fmvlmnrzjzVqZGpvAJXj5b19JPDO4eOBwAAAAAAsBvKpQTy7sxVuvLJL5WbX6C8Apckbd2VL0lauHabJsxZo2N6tggZEQAAAAAAYDdMi0sQC9du1ZVPfqntufnfFkvF7cwr0JVPfqmFa7cGSAcAAAAAAFA6yqUE8fCEecrNLyh3m9z8Av1rwvxqSgQAAAAAAFAxyqUE8fxXy0odsVRcXoFr3FdLqykRAAAAAABAxSiXEsTWnXmxbbcrtu0AAAAAAACqA+VSgqhbM7Zrq9etwTXYAQAAAABA4qBcShDD9m+jrAwrd5usDNNZ+7etpkQAAAAAAAAVo1xKEJcd0UXZmeX/OLIzM3TpEZ2rKREAAAAAAEDFKJcSRMemdfXA+YNUOztzjxFMWRmm2tmZeuD8QerYtG6ghAAAAAAAAHuiXEogx/RsodeuOkLnHthB9WpmyUyqVzNL5x7YQa9ddYSO6dkidEQAAAAAAIDdmLuHzlDlBg8e7BMnTgwdAwAAAAAAIGWY2SR3H1xyOSOXAAAAAAAAUGmUSwAAAAAAAKi0IOWSmTUxszfNbHb0tXEZ2zUys9FmNsPMppvZIdWdFQAAAAAAAGULNXJppKS33b27pLej+6W5V9Jr7t5L0n6SpldTPgAAAAAAAMQgVLl0pqTHotuPSRpWcgMzayDpSEn/liR33+XuG6opHwAAAAAAAGKQFei8Ld19uSS5+3Iza1HKNl0krZb0qJntJ2mSpF+5+9bSDmhml0u6PLq7xcxmxiF3dWsmaU3oEACQxHgeBYB9x3MpAOybVHoe7VjaQnP3uJzNzN6S1KqUVddLeszdGxXbdr2773bdJTMbLOlTSYe5+2dmdq+kTe5+Y1wCJyAzm1jaR/wBAGLD8ygA7DueSwFg36TD82jcRi65+9Cy1pnZSjNrHY1aai1pVSmbLZG0xN0/i+6PVtnXZgIAAAAAAEAAoa65NF7ShdHtCyW9UHIDd18habGZ9YwWHSdpWvXEAwAAAAAAQCxClUujJB1vZrMlHR/dl5m1MbNXim33C0lPmVmOpIGS/ljdQQN7KHQAAEhyPI8CwL7juRQA9k3KP4/G7ZpLAAAAAAAASH2hRi4BAAAAAAAgBVAuAQAAAAAAoNIol4oxMzezPxe7/1szu2Uv9r8oOsZxxZadFS07J7r/LzPrs5e5zjAzPikPQFor7znazG6J1ncrtv7qaNngYsv2j5adWOLY+Wb2tZlNMbMXzaxR/B8RAFSv6PnviWL3s8xstZm9VGzZyWY20cymm9kMM7u7xDG+MbNnSiz7j5nNj55Hvyn+tzAApLJYnlej5S+Y2Scllt1iZkuj585pZnZudeWOB8ql3e2UdLaZNduHY0yWVPyX4oeSvim64+6Xuvtefeqdu49391H7kAkAUkFFz9GTVficW+Qc7fkpo+dK+lC7P09L0nZ3H+ju/SStk/SzKsgLAIlmq6R+ZlY7un+8pKVFK82sn6S/Szrf3XtL6idpXrH1vVX4+uFIM6tb4ti/c/eBkq6S9GC8HgAAJJhyn1clKXrTcpCkRmbWucT+f42eO8+U9E8zy45v3PihXNpdngqv4n51yRVm1tHM3jaznOhrhzKOMUHSgWaWbWb1JHWT9HWx47xnZoPNLDN6l2eKmU02s6uj9b+MWsscM3s2WnaRmf09uv0fM7vPzD42s3nFRkRlmNkDZjbVzF4ys1eKrTvAzN43s0lm9rqZtS7nXEdFzenXZvaVmdWvku8sAOy7Mp+jI8+r8H/MMrMukjZKWl200sxMhYXTRZJOMLNaZRznE0ltqyQxACSeVyWdGt0+V1LxUUjXSLrd3WdIkrvnufsDxdb/SNITkt6QdEYZx+c5FEC6Ke95VZKGS3pR0rPa/Y3Qb7n7bEnbJDWOU8a4o1za0/2SzjOzhiWW/13S4+4+QNJTku4rY3+X9JakE1X4Imd8GdsNlNTW3fu5e39Jj0bLR0raPzrPFWXs21rS4ZJOk1Q0oulsSZ0k9Zd0qaRDJClqPv8m6Rx3P0DSI5JuL+dcv5X0s6g9PULS9jIyAEAIZT1HS9ImSYujd97PlfTfEusPkzTf3edKek/SKSUPYGaZko5T2c/dAJDsnpX0w6hgHyDps2Lr+kmaVM6+P1Dhc+sz2nMEaJGTVFj2A0C6KO95VfqucCrzudPMBkma7e6r4hk0niiXSnD3TZIel/TLEqsOkfR0dPsJFZY7ZSlqJH+oPVvLIvMkdTGzv5nZSSp8USRJOZKeMrPzVfgufWmed/eCaHpdy2jZ4ZKei5avkPRutLynCv9QeNPMvpZ0g6R25ZzrI0l/MbNfSmrk7mVlAIBqV85zdJGi599hksaVWHdutL5ou+L/c68dPUeuldRE0ptVkxgAEou756jwDclzJb0S635mNkTSandfKOltSYPMrPg77H8ys3mSnpT0x6pLDACJrbznVTNrqcLZTB+6+yxJedEboUWuNrOZKiykbqmWwHFCuVS6eyT9RFLJueTFeZkr3D9XYaHTLPoFKm2b9ZL2U+G75z+T9K9o1akqfGf+AEmTzCyrlN13FrttJb6WZJKmRtcSGeju/d39hLLOFV3b6VJJtSV9ama9ynqcABDIPSr7OfpFSRdIWhQVUZK+HZE0XNJNZrZAhSM6Ty429Xd7NGKzo6Qa4ppLAFLbeEl3a883Qaeq8O/C0pwrqVf0HDpXUgMVPq8W+Z0KX0DdIOmxqgwLAEmgrOfVH6hwqtv86Pmzk3afGvdXd+8Zbfd4OZdtSHiUS6Vw93WS/qfCFy9FPtZ3vwTnqfCCsOW5VtJ1Za2MLkib4e5jJN2ownd/MiS1d/d3VTjnvZGkejHG/lDS8OjaSy0lHR0tnympuZl9O03OzPqWdS4z6+ruk939TkkTJfWK9psRYw4AiKsynqOL1m2XNELfTf8tMlTSN+7e3t07uXtHSWNUOMKp+P4bVTgq6rfJfEFFAKjAI5L+4O6TSyz/k6TrzKyH9O01PX8d/d34PUkDoufQTiq8/MNu0zvcvUDSvZIyrMSncgJAiivrefVcSScVe+48QKVcd8ndx6rw9feF8Q4aL5RLZfuzpOKfSPRLSRebWY4K3xX/VXk7u/urUXFTlraS3oumYfxHhWVUpqQnzWyypK9U2GJuiDHvGElLJE2R9E8VDqvb6O67VHgB2zvN7BsVXlz80HLOdVV0kfFvVHi9pVejIqyskVEAEELJ5+hvufuz7v5licXnas9pcmNUeHHakvt/pcJP+Sz1gosAkOzcfYm731vK8hwVftrbM2Y2XYV/V7aWdKSkpe5e/BOQPpDUp+iDYoodwyXdpsI3LwEgLZT2vGpmnSR1kPRpse3mS9pkZgeVcpg/SCoq9JOOFT7/IxWYWT1332JmTSV9Lumw6PpL+3rc0yR1cfeyLmIOAAAAAADSFOVSCjGz91Q4va2GpLvc/T8h8wAAAAAAgNRHuQQAAAAAAIBKS8q5fAAAAAAAAEgMlEsAAAAAAACoNMolAAAAAAAAVBrlEgAASDlm5mb2RLH7WWa22sxeiu6fYWYjK3Hcj6syZ1UzsxPN7Ovo3xYzmxndfjx0NgAAkLq4oDcAAEg5ZrZF0mxJh7r7djM7WdIdkpa4+2lh01WP6FNkf+vuE0NnAQAAqY2RSwAAIFW9KunU6Pa5kp4pWmFmF5nZ36Pb3zOzKWb2jZl9EC3ra2afR6N+csyse7R8S/T1aDN7z8xGm9kMM3vKzCxad0q07EMzu6/YaKlbzOyRaL95ZvbLYnnOL3a+f5pZZvTvP1G2yWZ2dbTtL81sWpTr2Yq+CWZ2nJmNK3b/eDMbW/R4zOzPZvalmb1tZs2j5V3N7DUzm2RmE8ysV6V/CgAAIOVRLgEAgFT1rKQfmlktSQMkfVbGdjdJOtHd95N0RrTsCkn3uvtASYMlLSllv/0lXSWpj6Qukg6LzvVPSSe7++GSmpfYp5ekEyUdKOlmM8s2s96SfiDpsOh8+ZLOkzRQUlt37+fu/SU9Gh1jpKT93X1AlLMi70jqXVQcSbq42LHqSvrS3QdJel/SzdHyhyT9wt0PkPRbSQ/EcB4AAJCmKJcAAEBKcvccSZ1UOGrplXI2/UjSf8zsMkmZ0bJPJF1nZiMkdXT37aXs97m7L3H3AklfR+fqJWmeu8+PtnmmxD4vu/tOd18jaZWklpKOk3SApC/M7OvofhdJ8yR1MbO/mdlJkjZFx8iR9JSZnS8pL4bvg0t6QtL5ZtZI0iEqHNUlSQWS/hvdflLS4WZWT9Khkp6L8vxTUuuKzgMAANJXVugAAAAAcTRe0t2SjpbUtLQN3P0KMztIhVPovjazge7+tJl9Fi173cwudfd3Suy6s9jtfBX+XWUV5Clrn8fc/dqSG5vZfioc6fQzSd+XdEmU6UgVjrK60cz6untFJdOjkl6UtEPSc+Vs7yp883FDNIoKAACgQoxcAgAAqewRSX9w98llbWBmXd39M3e/SdIaSe3NrIsKRyDdp8KCakCM55uhwtFGnaL7P4hhn7clnWNmLaI8Tcyso5k1k5Th7mMk3ShpkJllSGrv7u9KukZSI0n1KjqBuy+TtEzSDZL+U2xVhqRzots/kvShu2+SNN/MvhflsajkAgAAKBUjlwAAQMpy9yWS7q1gsz9FF+w2FRY936jwukbnm1mupBWS/hDj+bab2ZWSXjOzNZI+j2GfaWZ2g6Q3ovIoV4UjlbZLejRaJknXqnDa3pNm1jDK+1d33xBLNklPSWru7tOKLdsqqa+ZTZK0Ud+VYedJ+keUK1uF16/6JsbzAACANGOF0/ABAABQFcysnrtviT497n5Js939rwmQ6++SvnL3fxdbtsXdKxz5BAAAUB6mxQEAAFSty6ILYU+V1FCFF8QOKhqZNECFF+0GAACoUoxcAgAAAAAAQKUxcgkAAAAAAACVRrkEAAAAAACASqNcAgAAAAAAQKVRLgEAAAAAAKDSKJcAAAAAAABQaf8PpasmAT8Ss7YAAAAASUVORK5CYII=\n",
      "text/plain": [
       "<Figure size 1440x720 with 1 Axes>"
      ]
     },
     "metadata": {
      "needs_background": "light"
     },
     "output_type": "display_data"
    }
   ],
   "source": [
    "plt.figure(figsize = (20, 10))\n",
    "plt.title('Statistical Parities')\n",
    "plt.xlabel('Missingness Type')\n",
    "plt.ylabel('Statistical Parotities')\n",
    "#plt.yticks((np.arange(0, max(par)+1, 0.001)))\n",
    "plt.ylim(-0.6, 0.06)\n",
    "plt.plot(labels, par, marker='.', markersize = 20)"
   ]
  },
  {
   "cell_type": "code",
   "execution_count": 131,
   "id": "672012ae",
   "metadata": {},
   "outputs": [
    {
     "data": {
      "text/plain": [
       "[<matplotlib.lines.Line2D at 0x7f8426b912e0>]"
      ]
     },
     "execution_count": 131,
     "metadata": {},
     "output_type": "execute_result"
    },
    {
     "data": {
      "image/png": "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\n",
      "text/plain": [
       "<Figure size 1440x720 with 1 Axes>"
      ]
     },
     "metadata": {
      "needs_background": "light"
     },
     "output_type": "display_data"
    }
   ],
   "source": [
    "plt.figure(figsize = (20, 10))\n",
    "plt.title('Equality of Odds')\n",
    "plt.xlabel('Missingness Type')\n",
    "plt.ylabel('Equality of Odds')\n",
    "#plt.yticks((np.arange(0, max(par)+1, 0.001)))\n",
    "plt.ylim(-0.6, 0.09)\n",
    "plt.plot(labels, odds, marker='.', markersize = 20)"
   ]
  },
  {
   "cell_type": "code",
   "execution_count": 135,
   "id": "69974c90",
   "metadata": {},
   "outputs": [
    {
     "data": {
      "text/plain": [
       "[<matplotlib.lines.Line2D at 0x7f8426a9f070>]"
      ]
     },
     "execution_count": 135,
     "metadata": {},
     "output_type": "execute_result"
    },
    {
     "data": {
      "image/png": "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\n",
      "text/plain": [
       "<Figure size 1440x720 with 1 Axes>"
      ]
     },
     "metadata": {
      "needs_background": "light"
     },
     "output_type": "display_data"
    }
   ],
   "source": [
    "plt.figure(figsize = (20, 10))\n",
    "plt.title('Equality of Opportunity')\n",
    "plt.xlabel('Missingness Type')\n",
    "plt.ylabel('Equality of Opportunity')\n",
    "#plt.yticks((np.arange(0, max(par)+1, 0.001)))\n",
    "plt.ylim(-0.4, 0.15)\n",
    "plt.plot(labels, opp, marker='.', markersize = 20)"
   ]
  },
  {
   "cell_type": "code",
   "execution_count": 133,
   "id": "ee784326",
   "metadata": {},
   "outputs": [
    {
     "data": {
      "text/plain": [
       "[-0.3652561247216035,\n",
       " 0.12620689655172415,\n",
       " 0.11522965350523771,\n",
       " 0.1276595744680851]"
      ]
     },
     "execution_count": 133,
     "metadata": {},
     "output_type": "execute_result"
    }
   ],
   "source": [
    "o"
   ]
  },
  {
   "cell_type": "code",
   "execution_count": null,
   "id": "76a636ed",
>>>>>>> giwi
   "metadata": {},
   "outputs": [],
   "source": []
  }
 ],
 "metadata": {
  "kernelspec": {
   "display_name": "Python 3 (ipykernel)",
   "language": "python",
   "name": "python3"
  },
  "language_info": {
   "codemirror_mode": {
    "name": "ipython",
    "version": 3
   },
   "file_extension": ".py",
   "mimetype": "text/x-python",
   "name": "python",
   "nbconvert_exporter": "python",
   "pygments_lexer": "ipython3",
<<<<<<< HEAD
   "version": "3.8.10"
=======
   "version": "3.9.5"
  },
  "vscode": {
   "interpreter": {
    "hash": "26de051ba29f2982a8de78e945f0abaf191376122a1563185a90213a26c5da77"
   }
>>>>>>> giwi
  }
 },
 "nbformat": 4,
 "nbformat_minor": 5
}
